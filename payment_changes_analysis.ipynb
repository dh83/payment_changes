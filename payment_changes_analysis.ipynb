{
 "cells": [
  {
   "cell_type": "markdown",
   "metadata": {},
   "source": [
    "## Анализ новой механики оплат услуг"
   ]
  },
  {
   "cell_type": "markdown",
   "metadata": {},
   "source": [
    "### 1.1 Задача\n",
    "\n",
    "В ходе тестирования одной гипотезы целевой группе была предложена новая механика оплаты услуг на сайте, у контрольной группы оставалась базовая механика. В качестве задания вам необходимо проанализировать итоги эксперимента и сделать вывод, стоит ли запускать новую механику оплаты на всех пользователей."
   ]
  },
  {
   "cell_type": "markdown",
   "metadata": {},
   "source": [
    "### 1.2 Входные данные\n",
    "\n",
    "| <p style=\"text-align: center; font-size:14px;\"> Название файла </p>  | <p style=\"text-align: center; font-size:14px;\"> Описание </p> |\n",
    "| ------------- | ------------- |\n",
    "| <span style=\"font-size:14px;\">groups.csv</span>  | <p style=\"text-align: left; font-size:14px;\"> файл с информацией о принадлежности пользователя к контрольной или экспериментальной группе (А – контроль, B – целевая группа) </p>  |\n",
    "| <span style=\"font-size:14px;\">groups_add.csv</span>  | <p style=\"text-align: left; font-size:14px;\"> дополнительный файл с пользователями, который вам прислали спустя 2 дня после передачи данных </p>  |\n",
    "| <span style=\"font-size:14px;\">active_studs.csv</span>  | <p style=\"text-align: left; font-size:14px;\"> файл с информацией о пользователях, которые зашли на платформу в дни проведения эксперимента </p>  |\n",
    "| <span style=\"font-size:14px;\">checks.csv</span>  | <p style=\"text-align: left; font-size:14px;\"> файл с информацией об оплатах пользователей в дни проведения эксперимента </p>  |"
   ]
  },
  {
   "cell_type": "markdown",
   "metadata": {},
   "source": [
    "### 1.3 Задача\n",
    "\n",
    "Расчёт ключевых метрик (CR, ARPU, ARPPU).  \n",
    "Проведение A/B - тестовю  \n",
    "Сделать вывод распространять ли новую механику оплаты услуг на всех клиентов.  \n"
   ]
  },
  {
   "cell_type": "markdown",
   "metadata": {},
   "source": [
    "---"
   ]
  },
  {
   "cell_type": "markdown",
   "metadata": {},
   "source": [
    "### План выполнения\n",
    "\n",
    "1. Подключение библиотек и настройка отображения графиков\n",
    "2. Чтение и предварительный анализ данных   \n",
    "3. Расчёт метрик  \n",
    "4. Статистические тесты   \n",
    "5. Визуализация метрик   \n",
    "6. Дополнительное исследование на предмет различия оплат в группах \n",
    "7. Выводы \n",
    "8. Функция пересчета метрик при получении доп. данных <Бонус>\n"
   ]
  },
  {
   "cell_type": "markdown",
   "metadata": {},
   "source": [
    "### 1. Подключение библиотек и настройка отображения графиков"
   ]
  },
  {
   "cell_type": "code",
   "execution_count": 1,
   "metadata": {},
   "outputs": [],
   "source": [
    "# Подключение библиотек\n",
    "\n",
    "%matplotlib inline\n",
    "\n",
    "import pandas as pd\n",
    "import numpy as np\n",
    "from itertools import combinations\n",
    "\n",
    "import requests \n",
    "from urllib.parse import urlencode \n",
    "\n",
    "import seaborn as sns\n",
    "import matplotlib.pyplot as plt\n",
    "\n",
    "# Z-тест для разности долей\n",
    "from statsmodels.stats.proportion import proportions_ztest\n",
    "\n",
    "# levene - для проверки гомогенности (равенства) дисперсий\n",
    "from scipy.stats import levene, ttest_ind  "
   ]
  },
  {
   "cell_type": "code",
   "execution_count": 2,
   "metadata": {},
   "outputs": [],
   "source": [
    "# Настройка отображения графиков\n",
    "size = 14\n",
    "params = {\n",
    "    \"legend.fontsize\": \"large\",\n",
    "    \"axes.titlesize\": size,\n",
    "}\n",
    "plt.rcParams.update(params)"
   ]
  },
  {
   "cell_type": "markdown",
   "metadata": {},
   "source": [
    "---"
   ]
  },
  {
   "cell_type": "markdown",
   "metadata": {},
   "source": [
    "### 2. Чтение и предварительный анализ данных  "
   ]
  },
  {
   "cell_type": "markdown",
   "metadata": {},
   "source": [
    "__2.1 Чтение данных в датафреймы__"
   ]
  },
  {
   "cell_type": "code",
   "execution_count": 3,
   "metadata": {},
   "outputs": [],
   "source": [
    "# Функция для считывания информации из файла на Яндекс Диске в датафрейм\n",
    "def read_file_yandex_dick(public_key, delimeter):\n",
    "    base_url = \"https://cloud-api.yandex.net/v1/disk/public/resources/download?\"\n",
    "\n",
    "    # получаем url\n",
    "    final_url = base_url + urlencode(dict(public_key=public_key))\n",
    "    response = requests.get(final_url)\n",
    "    download_url = response.json()[\"href\"]\n",
    "\n",
    "    # загружаем файл в df\n",
    "    download_response = requests.get(download_url)\n",
    "    return pd.read_csv(download_url, sep=delimeter)"
   ]
  },
  {
   "cell_type": "code",
   "execution_count": 4,
   "metadata": {},
   "outputs": [],
   "source": [
    "# Считываем датасеты в датафреймы\n",
    "groups_df = read_file_yandex_dick(\"https://disk.yandex.ru/d/UhyYx41rTt3clQ\", \";\")\n",
    "active_studs_df = read_file_yandex_dick(\"https://disk.yandex.ru/d/Tbs44Bm6H_FwFQ\", \" \")\n",
    "checks_df = read_file_yandex_dick(\"https://disk.yandex.ru/d/pH1q-VqcxXjsVA\", \";\")"
   ]
  },
  {
   "cell_type": "markdown",
   "metadata": {},
   "source": [
    "__2.2 Данные о принадлежности пользователей к группам (groups)__\n",
    "\n",
    "(А – контроль, B – целевая группа) "
   ]
  },
  {
   "cell_type": "code",
   "execution_count": 5,
   "metadata": {},
   "outputs": [
    {
     "data": {
      "text/html": [
       "<div>\n",
       "<style scoped>\n",
       "    .dataframe tbody tr th:only-of-type {\n",
       "        vertical-align: middle;\n",
       "    }\n",
       "\n",
       "    .dataframe tbody tr th {\n",
       "        vertical-align: top;\n",
       "    }\n",
       "\n",
       "    .dataframe thead th {\n",
       "        text-align: right;\n",
       "    }\n",
       "</style>\n",
       "<table border=\"1\" class=\"dataframe\">\n",
       "  <thead>\n",
       "    <tr style=\"text-align: right;\">\n",
       "      <th></th>\n",
       "      <th>id</th>\n",
       "      <th>grp</th>\n",
       "    </tr>\n",
       "  </thead>\n",
       "  <tbody>\n",
       "    <tr>\n",
       "      <th>0</th>\n",
       "      <td>1489</td>\n",
       "      <td>B</td>\n",
       "    </tr>\n",
       "    <tr>\n",
       "      <th>1</th>\n",
       "      <td>1627</td>\n",
       "      <td>A</td>\n",
       "    </tr>\n",
       "    <tr>\n",
       "      <th>2</th>\n",
       "      <td>1768</td>\n",
       "      <td>B</td>\n",
       "    </tr>\n",
       "  </tbody>\n",
       "</table>\n",
       "</div>"
      ],
      "text/plain": [
       "     id grp\n",
       "0  1489   B\n",
       "1  1627   A\n",
       "2  1768   B"
      ]
     },
     "execution_count": 5,
     "metadata": {},
     "output_type": "execute_result"
    }
   ],
   "source": [
    "groups_df.head(3)"
   ]
  },
  {
   "cell_type": "code",
   "execution_count": 6,
   "metadata": {},
   "outputs": [],
   "source": [
    "# Переименуем атрибут grp в group для удобства\n",
    "groups_df = groups_df.rename(columns={\"grp\": \"group\"})"
   ]
  },
  {
   "cell_type": "code",
   "execution_count": 7,
   "metadata": {},
   "outputs": [
    {
     "name": "stdout",
     "output_type": "stream",
     "text": [
      "<class 'pandas.core.frame.DataFrame'>\n",
      "RangeIndex: 74484 entries, 0 to 74483\n",
      "Data columns (total 2 columns):\n",
      " #   Column  Non-Null Count  Dtype \n",
      "---  ------  --------------  ----- \n",
      " 0   id      74484 non-null  int64 \n",
      " 1   group   74484 non-null  object\n",
      "dtypes: int64(1), object(1)\n",
      "memory usage: 1.1+ MB\n"
     ]
    }
   ],
   "source": [
    "# Вывод информации о датафрейме (отсутствующие значения, типы данных)\n",
    "groups_df.info()"
   ]
  },
  {
   "cell_type": "code",
   "execution_count": 8,
   "metadata": {},
   "outputs": [
    {
     "data": {
      "text/plain": [
       "id       74484\n",
       "group        2\n",
       "dtype: int64"
      ]
     },
     "execution_count": 8,
     "metadata": {},
     "output_type": "execute_result"
    }
   ],
   "source": [
    "# Посмотрим на количество уникальных значений\n",
    "groups_df.nunique()"
   ]
  },
  {
   "cell_type": "markdown",
   "metadata": {},
   "source": [
    "Количество уникальных значений id совпадает с количеством записей, значит дубли отсутствуют."
   ]
  },
  {
   "cell_type": "code",
   "execution_count": 9,
   "metadata": {},
   "outputs": [
    {
     "data": {
      "text/plain": [
       "group\n",
       "B    59813\n",
       "A    14671\n",
       "Name: count, dtype: int64"
      ]
     },
     "execution_count": 9,
     "metadata": {},
     "output_type": "execute_result"
    }
   ],
   "source": [
    "# Количество участников в группах\n",
    "groups_df.group.value_counts()"
   ]
  },
  {
   "cell_type": "code",
   "execution_count": 10,
   "metadata": {},
   "outputs": [
    {
     "data": {
      "text/plain": [
       "group\n",
       "B    0.803032\n",
       "A    0.196968\n",
       "Name: proportion, dtype: float64"
      ]
     },
     "execution_count": 10,
     "metadata": {},
     "output_type": "execute_result"
    }
   ],
   "source": [
    "# Соотношение участников групп\n",
    "groups_df.group.value_counts(normalize=True)"
   ]
  },
  {
   "cell_type": "markdown",
   "metadata": {},
   "source": [
    "Тестовую группу делают в 4 раза больше контрольной, когда необходимо увеличить статистическую мощность эксперимента для обнаружения более мелких эффектов или различий между группами.  \n",
    "Увеличение размера тестовой группы позволяет уменьшить дисперсию и увеличить точность оценки эффекта влияния тестируемого фактора."
   ]
  },
  {
   "cell_type": "markdown",
   "metadata": {},
   "source": [
    "__2.3 Данные по активным студентам (active_studs)__"
   ]
  },
  {
   "cell_type": "code",
   "execution_count": 11,
   "metadata": {},
   "outputs": [
    {
     "data": {
      "text/html": [
       "<div>\n",
       "<style scoped>\n",
       "    .dataframe tbody tr th:only-of-type {\n",
       "        vertical-align: middle;\n",
       "    }\n",
       "\n",
       "    .dataframe tbody tr th {\n",
       "        vertical-align: top;\n",
       "    }\n",
       "\n",
       "    .dataframe thead th {\n",
       "        text-align: right;\n",
       "    }\n",
       "</style>\n",
       "<table border=\"1\" class=\"dataframe\">\n",
       "  <thead>\n",
       "    <tr style=\"text-align: right;\">\n",
       "      <th></th>\n",
       "      <th>student_id</th>\n",
       "    </tr>\n",
       "  </thead>\n",
       "  <tbody>\n",
       "    <tr>\n",
       "      <th>0</th>\n",
       "      <td>581585</td>\n",
       "    </tr>\n",
       "    <tr>\n",
       "      <th>1</th>\n",
       "      <td>5723133</td>\n",
       "    </tr>\n",
       "    <tr>\n",
       "      <th>2</th>\n",
       "      <td>3276743</td>\n",
       "    </tr>\n",
       "    <tr>\n",
       "      <th>3</th>\n",
       "      <td>4238589</td>\n",
       "    </tr>\n",
       "    <tr>\n",
       "      <th>4</th>\n",
       "      <td>4475369</td>\n",
       "    </tr>\n",
       "  </tbody>\n",
       "</table>\n",
       "</div>"
      ],
      "text/plain": [
       "   student_id\n",
       "0      581585\n",
       "1     5723133\n",
       "2     3276743\n",
       "3     4238589\n",
       "4     4475369"
      ]
     },
     "execution_count": 11,
     "metadata": {},
     "output_type": "execute_result"
    }
   ],
   "source": [
    "active_studs_df.head()"
   ]
  },
  {
   "cell_type": "code",
   "execution_count": 12,
   "metadata": {},
   "outputs": [
    {
     "data": {
      "text/plain": [
       "(8341, 1)"
      ]
     },
     "execution_count": 12,
     "metadata": {},
     "output_type": "execute_result"
    }
   ],
   "source": [
    "# Количество активных\n",
    "active_studs_df.shape"
   ]
  },
  {
   "cell_type": "code",
   "execution_count": 13,
   "metadata": {},
   "outputs": [
    {
     "data": {
      "text/plain": [
       "student_id    8341\n",
       "dtype: int64"
      ]
     },
     "execution_count": 13,
     "metadata": {},
     "output_type": "execute_result"
    }
   ],
   "source": [
    "# Количество уникальных\n",
    "active_studs_df.nunique()"
   ]
  },
  {
   "cell_type": "markdown",
   "metadata": {},
   "source": [
    "id студентов идут не по возрастанию. Скорее всего по времени захода на платформу.\n",
    "\n",
    "Из 74484 участников в группах, в логе заходов на платформу лишь 8341 участников (примерно 11%).\n",
    "\n",
    "Далее считаю критерием попадания в контрольную или тестовую группы - действием не требующих особого усилия (отклик на письмо, регистрация, заход), а студентов из active_studs.csv как \"активных\", то есть выполнивших определенное действие (возможно, что помимо захода на платформу, также и решение N заданий)."
   ]
  },
  {
   "cell_type": "markdown",
   "metadata": {},
   "source": [
    "__2.4 Данные об оплатах пользователей в дни проведения эксперимента (checks)__"
   ]
  },
  {
   "cell_type": "code",
   "execution_count": 14,
   "metadata": {},
   "outputs": [
    {
     "data": {
      "text/html": [
       "<div>\n",
       "<style scoped>\n",
       "    .dataframe tbody tr th:only-of-type {\n",
       "        vertical-align: middle;\n",
       "    }\n",
       "\n",
       "    .dataframe tbody tr th {\n",
       "        vertical-align: top;\n",
       "    }\n",
       "\n",
       "    .dataframe thead th {\n",
       "        text-align: right;\n",
       "    }\n",
       "</style>\n",
       "<table border=\"1\" class=\"dataframe\">\n",
       "  <thead>\n",
       "    <tr style=\"text-align: right;\">\n",
       "      <th></th>\n",
       "      <th>student_id</th>\n",
       "      <th>rev</th>\n",
       "    </tr>\n",
       "  </thead>\n",
       "  <tbody>\n",
       "    <tr>\n",
       "      <th>0</th>\n",
       "      <td>1627</td>\n",
       "      <td>990.0</td>\n",
       "    </tr>\n",
       "    <tr>\n",
       "      <th>1</th>\n",
       "      <td>3185</td>\n",
       "      <td>690.0</td>\n",
       "    </tr>\n",
       "    <tr>\n",
       "      <th>2</th>\n",
       "      <td>25973</td>\n",
       "      <td>690.0</td>\n",
       "    </tr>\n",
       "  </tbody>\n",
       "</table>\n",
       "</div>"
      ],
      "text/plain": [
       "   student_id    rev\n",
       "0        1627  990.0\n",
       "1        3185  690.0\n",
       "2       25973  690.0"
      ]
     },
     "execution_count": 14,
     "metadata": {},
     "output_type": "execute_result"
    }
   ],
   "source": [
    "checks_df.head(3)"
   ]
  },
  {
   "cell_type": "code",
   "execution_count": 15,
   "metadata": {
    "scrolled": true
   },
   "outputs": [
    {
     "name": "stdout",
     "output_type": "stream",
     "text": [
      "<class 'pandas.core.frame.DataFrame'>\n",
      "RangeIndex: 541 entries, 0 to 540\n",
      "Data columns (total 2 columns):\n",
      " #   Column      Non-Null Count  Dtype  \n",
      "---  ------      --------------  -----  \n",
      " 0   student_id  541 non-null    int64  \n",
      " 1   rev         541 non-null    float64\n",
      "dtypes: float64(1), int64(1)\n",
      "memory usage: 8.6 KB\n"
     ]
    }
   ],
   "source": [
    "checks_df.info()"
   ]
  },
  {
   "cell_type": "code",
   "execution_count": 16,
   "metadata": {},
   "outputs": [
    {
     "data": {
      "text/plain": [
       "541"
      ]
     },
     "execution_count": 16,
     "metadata": {},
     "output_type": "execute_result"
    }
   ],
   "source": [
    "checks_df.student_id.nunique()"
   ]
  },
  {
   "cell_type": "code",
   "execution_count": 17,
   "metadata": {
    "scrolled": true
   },
   "outputs": [
    {
     "data": {
      "text/html": [
       "<div>\n",
       "<style scoped>\n",
       "    .dataframe tbody tr th:only-of-type {\n",
       "        vertical-align: middle;\n",
       "    }\n",
       "\n",
       "    .dataframe tbody tr th {\n",
       "        vertical-align: top;\n",
       "    }\n",
       "\n",
       "    .dataframe thead th {\n",
       "        text-align: right;\n",
       "    }\n",
       "</style>\n",
       "<table border=\"1\" class=\"dataframe\">\n",
       "  <thead>\n",
       "    <tr style=\"text-align: right;\">\n",
       "      <th></th>\n",
       "      <th>student_id</th>\n",
       "      <th>rev</th>\n",
       "    </tr>\n",
       "  </thead>\n",
       "  <tbody>\n",
       "    <tr>\n",
       "      <th>count</th>\n",
       "      <td>5.410000e+02</td>\n",
       "      <td>541.000000</td>\n",
       "    </tr>\n",
       "    <tr>\n",
       "      <th>mean</th>\n",
       "      <td>2.514772e+06</td>\n",
       "      <td>1059.752317</td>\n",
       "    </tr>\n",
       "    <tr>\n",
       "      <th>std</th>\n",
       "      <td>1.726839e+06</td>\n",
       "      <td>762.712359</td>\n",
       "    </tr>\n",
       "    <tr>\n",
       "      <th>min</th>\n",
       "      <td>1.627000e+03</td>\n",
       "      <td>199.000000</td>\n",
       "    </tr>\n",
       "    <tr>\n",
       "      <th>25%</th>\n",
       "      <td>9.871290e+05</td>\n",
       "      <td>290.000000</td>\n",
       "    </tr>\n",
       "    <tr>\n",
       "      <th>50%</th>\n",
       "      <td>2.526021e+06</td>\n",
       "      <td>840.000000</td>\n",
       "    </tr>\n",
       "    <tr>\n",
       "      <th>75%</th>\n",
       "      <td>3.993249e+06</td>\n",
       "      <td>1900.000000</td>\n",
       "    </tr>\n",
       "    <tr>\n",
       "      <th>max</th>\n",
       "      <td>5.740903e+06</td>\n",
       "      <td>4650.000000</td>\n",
       "    </tr>\n",
       "  </tbody>\n",
       "</table>\n",
       "</div>"
      ],
      "text/plain": [
       "         student_id          rev\n",
       "count  5.410000e+02   541.000000\n",
       "mean   2.514772e+06  1059.752317\n",
       "std    1.726839e+06   762.712359\n",
       "min    1.627000e+03   199.000000\n",
       "25%    9.871290e+05   290.000000\n",
       "50%    2.526021e+06   840.000000\n",
       "75%    3.993249e+06  1900.000000\n",
       "max    5.740903e+06  4650.000000"
      ]
     },
     "execution_count": 17,
     "metadata": {},
     "output_type": "execute_result"
    }
   ],
   "source": [
    "checks_df.describe()"
   ]
  },
  {
   "cell_type": "markdown",
   "metadata": {},
   "source": [
    "Метрики описательной статистики без дробной части, но тип столбца float64.  \n",
    "Найдем значения с дробной частью."
   ]
  },
  {
   "cell_type": "code",
   "execution_count": 18,
   "metadata": {},
   "outputs": [
    {
     "name": "stdout",
     "output_type": "stream",
     "text": [
      "Числа с дробной частью: [1900.0001]\n"
     ]
    }
   ],
   "source": [
    "# Создадим временный датафрейм для сохранности данных\n",
    "temp_df = checks_df.copy()\n",
    "\n",
    "\n",
    "# Функция для проверки наличия дробной части у числа\n",
    "def has_decimal(number):\n",
    "    return number % 1 != 0\n",
    "\n",
    "\n",
    "# Применяем функцию к столбцу 'Numbers' и создаем новый столбец 'Has Decimal'\n",
    "temp_df[\"Has Decimal\"] = checks_df[\"rev\"].apply(has_decimal)\n",
    "\n",
    "# Фильтруем датафрейм по значениям в столбце 'Has Decimal'\n",
    "numbers_with_decimal = temp_df[temp_df[\"Has Decimal\"] == True][\"rev\"].unique()\n",
    "\n",
    "print(f\"Числа с дробной частью: {numbers_with_decimal}\")"
   ]
  },
  {
   "cell_type": "markdown",
   "metadata": {},
   "source": [
    "Присутствует только один вариант чисел с плавающей запятой, который дублирует такое же целое значение (1900).  \n",
    "Появление данного варианта может быть вызвано разными причинами: проблемы с округлением, ввод данных из различных источников, использование различных типов данных и прочее"
   ]
  },
  {
   "cell_type": "code",
   "execution_count": 19,
   "metadata": {},
   "outputs": [],
   "source": [
    "# Преобразуем столбец в целочисленный тип данных\n",
    "checks_df[\"rev\"] = checks_df.rev.astype(int)"
   ]
  },
  {
   "cell_type": "code",
   "execution_count": 20,
   "metadata": {
    "scrolled": true
   },
   "outputs": [
    {
     "data": {
      "text/plain": [
       "<Axes: xlabel='rev'>"
      ]
     },
     "execution_count": 20,
     "metadata": {},
     "output_type": "execute_result"
    },
    {
     "data": {
      "image/png": "[encoded data removed]",
      "text/plain": [
       "<Figure size 640x480 with 1 Axes>"
      ]
     },
     "metadata": {},
     "output_type": "display_data"
    }
   ],
   "source": [
    "# Визуализируем распределение сумм покупок через боксплот\n",
    "sns.boxplot(data=checks_df, x=\"rev\")"
   ]
  },
  {
   "cell_type": "markdown",
   "metadata": {},
   "source": [
    "541 клиент.  \n",
    "В колонке \"rev\" - общая сумма по клиенту.  \n",
    "Присутствует 1 не критичный выброс."
   ]
  },
  {
   "cell_type": "markdown",
   "metadata": {},
   "source": [
    "__2.5 Объединение данных в один датафрейм__"
   ]
  },
  {
   "cell_type": "code",
   "execution_count": 21,
   "metadata": {},
   "outputs": [
    {
     "data": {
      "text/html": [
       "<div>\n",
       "<style scoped>\n",
       "    .dataframe tbody tr th:only-of-type {\n",
       "        vertical-align: middle;\n",
       "    }\n",
       "\n",
       "    .dataframe tbody tr th {\n",
       "        vertical-align: top;\n",
       "    }\n",
       "\n",
       "    .dataframe thead th {\n",
       "        text-align: right;\n",
       "    }\n",
       "</style>\n",
       "<table border=\"1\" class=\"dataframe\">\n",
       "  <thead>\n",
       "    <tr style=\"text-align: right;\">\n",
       "      <th></th>\n",
       "      <th>id</th>\n",
       "      <th>group</th>\n",
       "      <th>active</th>\n",
       "      <th>rev</th>\n",
       "    </tr>\n",
       "  </thead>\n",
       "  <tbody>\n",
       "    <tr>\n",
       "      <th>0</th>\n",
       "      <td>1489</td>\n",
       "      <td>B</td>\n",
       "      <td>0</td>\n",
       "      <td>0.0</td>\n",
       "    </tr>\n",
       "    <tr>\n",
       "      <th>1</th>\n",
       "      <td>1627</td>\n",
       "      <td>A</td>\n",
       "      <td>1</td>\n",
       "      <td>990.0</td>\n",
       "    </tr>\n",
       "    <tr>\n",
       "      <th>2</th>\n",
       "      <td>1768</td>\n",
       "      <td>B</td>\n",
       "      <td>0</td>\n",
       "      <td>0.0</td>\n",
       "    </tr>\n",
       "    <tr>\n",
       "      <th>3</th>\n",
       "      <td>1783</td>\n",
       "      <td>B</td>\n",
       "      <td>0</td>\n",
       "      <td>0.0</td>\n",
       "    </tr>\n",
       "    <tr>\n",
       "      <th>4</th>\n",
       "      <td>1794</td>\n",
       "      <td>A</td>\n",
       "      <td>0</td>\n",
       "      <td>0.0</td>\n",
       "    </tr>\n",
       "    <tr>\n",
       "      <th>...</th>\n",
       "      <td>...</td>\n",
       "      <td>...</td>\n",
       "      <td>...</td>\n",
       "      <td>...</td>\n",
       "    </tr>\n",
       "    <tr>\n",
       "      <th>74479</th>\n",
       "      <td>5692459</td>\n",
       "      <td>B</td>\n",
       "      <td>0</td>\n",
       "      <td>0.0</td>\n",
       "    </tr>\n",
       "    <tr>\n",
       "      <th>74480</th>\n",
       "      <td>5692572</td>\n",
       "      <td>B</td>\n",
       "      <td>0</td>\n",
       "      <td>0.0</td>\n",
       "    </tr>\n",
       "    <tr>\n",
       "      <th>74481</th>\n",
       "      <td>5692865</td>\n",
       "      <td>B</td>\n",
       "      <td>0</td>\n",
       "      <td>0.0</td>\n",
       "    </tr>\n",
       "    <tr>\n",
       "      <th>74482</th>\n",
       "      <td>5693667</td>\n",
       "      <td>B</td>\n",
       "      <td>0</td>\n",
       "      <td>0.0</td>\n",
       "    </tr>\n",
       "    <tr>\n",
       "      <th>74483</th>\n",
       "      <td>5694419</td>\n",
       "      <td>B</td>\n",
       "      <td>0</td>\n",
       "      <td>0.0</td>\n",
       "    </tr>\n",
       "  </tbody>\n",
       "</table>\n",
       "<p>74484 rows × 4 columns</p>\n",
       "</div>"
      ],
      "text/plain": [
       "            id group  active    rev\n",
       "0         1489     B       0    0.0\n",
       "1         1627     A       1  990.0\n",
       "2         1768     B       0    0.0\n",
       "3         1783     B       0    0.0\n",
       "4         1794     A       0    0.0\n",
       "...        ...   ...     ...    ...\n",
       "74479  5692459     B       0    0.0\n",
       "74480  5692572     B       0    0.0\n",
       "74481  5692865     B       0    0.0\n",
       "74482  5693667     B       0    0.0\n",
       "74483  5694419     B       0    0.0\n",
       "\n",
       "[74484 rows x 4 columns]"
      ]
     },
     "execution_count": 21,
     "metadata": {},
     "output_type": "execute_result"
    }
   ],
   "source": [
    "# объеиняем датафреймы принадлежности участников к группам\n",
    "# и активных участников во временный датафрейм\n",
    "temp_df = pd.merge(\n",
    "    groups_df, active_studs_df, how=\"left\", left_on=\"id\", right_on=\"student_id\"\n",
    ").rename(\n",
    "    columns={\"student_id\": \"active\"}\n",
    ")  # переименуем столбец\n",
    "\n",
    "# вместо бывшего student_id из датафрейма активности сделаем признак активен / не активен\n",
    "temp_df[\"active\"] = temp_df[\"active\"].notnull().astype(int)\n",
    "\n",
    "# объединяем полученный датафрейм с датафреймом оплат пользователей\n",
    "united_df = (\n",
    "    pd.merge(temp_df, checks_df, how=\"left\", left_on=\"id\", right_on=\"student_id\")\n",
    "    .fillna(0)\n",
    "    .drop(\"student_id\", axis=1)\n",
    ")\n",
    "united_df"
   ]
  },
  {
   "cell_type": "markdown",
   "metadata": {},
   "source": [
    "---"
   ]
  },
  {
   "cell_type": "markdown",
   "metadata": {},
   "source": [
    "### 3. Расчёт метрик\n"
   ]
  },
  {
   "cell_type": "code",
   "execution_count": 22,
   "metadata": {},
   "outputs": [],
   "source": [
    "# ===== Промежуточные параметры =====\n",
    "\n",
    "# Подсчет участников групп\n",
    "A_team_users = united_df.query(\"group == 'A'\").shape[0]\n",
    "B_team_users = united_df.query(\"group == 'B'\").shape[0]\n",
    "\n",
    "# Считаем клиентов в группах\n",
    "A_team_clients = united_df.query(\"group == 'A' & rev > 0\")\n",
    "B_team_clients = united_df.query(\"group == 'B' & rev > 0\")\n",
    "\n",
    "# Количество активных участников групп\n",
    "active_A = united_df.query(\"group == 'A' & active == 1\")\n",
    "active_B = united_df.query(\"group == 'B' & active == 1\")\n",
    "\n",
    "\n",
    "# ===== Метрики =====\n",
    "\n",
    "# Кол-во участников посчитано выше\n",
    "\n",
    "# Конверсия участник - клиент\n",
    "CR_user_A_to_client = round(A_team_clients.shape[0] * 100 / A_team_users, 2)\n",
    "CR_user_B_to_client = round(B_team_clients.shape[0] * 100 / B_team_users, 2)\n",
    "\n",
    "# Конверсия акт. участник - клиент\n",
    "CR_active_A_to_client = round(A_team_clients.shape[0] * 100 / active_A.shape[0], 2)\n",
    "CR_active_B_to_client = round(B_team_clients.shape[0] * 100 / active_B.shape[0], 2)\n",
    "\n",
    "# ARPU\n",
    "ARPU_A = round(A_team_clients.rev.sum() / A_team_users, 2)\n",
    "ARPU_B = round(B_team_clients.rev.sum() / B_team_users, 2)\n",
    "\n",
    "# ARPAU\n",
    "ARPAU_A = round(A_team_clients.rev.sum() / active_A.shape[0], 2)\n",
    "ARPAU_B = round(B_team_clients.rev.sum() / active_B.shape[0], 2)\n",
    "\n",
    "# ARPPU\n",
    "ARPPU_A = round(A_team_clients.rev.mean(), 2)\n",
    "ARPPU_B = round(B_team_clients.rev.mean(), 2)"
   ]
  },
  {
   "cell_type": "code",
   "execution_count": 23,
   "metadata": {},
   "outputs": [
    {
     "data": {
      "text/html": [
       "<div>\n",
       "<style scoped>\n",
       "    .dataframe tbody tr th:only-of-type {\n",
       "        vertical-align: middle;\n",
       "    }\n",
       "\n",
       "    .dataframe tbody tr th {\n",
       "        vertical-align: top;\n",
       "    }\n",
       "\n",
       "    .dataframe thead th {\n",
       "        text-align: right;\n",
       "    }\n",
       "</style>\n",
       "<table border=\"1\" class=\"dataframe\">\n",
       "  <thead>\n",
       "    <tr style=\"text-align: right;\">\n",
       "      <th></th>\n",
       "      <th>Users</th>\n",
       "      <th>CR users🠖clients</th>\n",
       "      <th>CR active🠖clients</th>\n",
       "      <th>ARPU</th>\n",
       "      <th>ARPAU</th>\n",
       "      <th>ARPPU</th>\n",
       "    </tr>\n",
       "  </thead>\n",
       "  <tbody>\n",
       "    <tr>\n",
       "      <th>control</th>\n",
       "      <td>14671</td>\n",
       "      <td>0.73</td>\n",
       "      <td>6.97</td>\n",
       "      <td>6.28</td>\n",
       "      <td>60.0</td>\n",
       "      <td>860.71</td>\n",
       "    </tr>\n",
       "    <tr>\n",
       "      <th>target</th>\n",
       "      <td>59813</td>\n",
       "      <td>0.72</td>\n",
       "      <td>6.37</td>\n",
       "      <td>8.01</td>\n",
       "      <td>70.56</td>\n",
       "      <td>1107.0</td>\n",
       "    </tr>\n",
       "  </tbody>\n",
       "</table>\n",
       "</div>"
      ],
      "text/plain": [
       "         Users CR users🠖clients CR active🠖clients  ARPU  ARPAU   ARPPU\n",
       "control  14671             0.73              6.97  6.28   60.0  860.71\n",
       "target   59813             0.72              6.37  8.01  70.56  1107.0"
      ]
     },
     "execution_count": 23,
     "metadata": {},
     "output_type": "execute_result"
    }
   ],
   "source": [
    "# Создание пустого датафрейма с необходимыми именами столбцов и индексов\n",
    "\n",
    "# Список с именами столбцов\n",
    "columns = [\"Users\", \"CR users🠖clients\", \"CR active🠖clients\", \"ARPU\", \"ARPAU\", \"ARPPU\"]\n",
    "# Список с индексами\n",
    "index = [\"control\", \"target\"]\n",
    "\n",
    "result_df = pd.DataFrame(columns=columns, index=index)\n",
    "\n",
    "\n",
    "# добавление метрик в результирующий датафрейм (итоговую таблицу)\n",
    "result_df.loc[\"control\"] = [\n",
    "    A_team_users,\n",
    "    CR_user_A_to_client,\n",
    "    CR_active_A_to_client,\n",
    "    ARPU_A,\n",
    "    ARPAU_A,\n",
    "    ARPPU_A,\n",
    "]\n",
    "result_df.loc[\"target\"] = [\n",
    "    B_team_users,\n",
    "    CR_user_B_to_client,\n",
    "    CR_active_B_to_client,\n",
    "    ARPU_B,\n",
    "    ARPAU_B,\n",
    "    ARPPU_B,\n",
    "]\n",
    "result_df"
   ]
  },
  {
   "cell_type": "markdown",
   "metadata": {},
   "source": [
    "---"
   ]
  },
  {
   "cell_type": "markdown",
   "metadata": {},
   "source": [
    "### 4. Статистические тесты"
   ]
  },
  {
   "cell_type": "markdown",
   "metadata": {},
   "source": [
    "Проведем тесты, чтобы проверить влияние новой механики оплат:  \n",
    "\n",
    "1) сравненим конверсии из пользователя в клиента в группах с помощью Z-теста для разности долей  \n",
    "2) t-тест на равенство средних значений сумм оплат клиентов в группах (ARPPU)  \n",
    "\n",
    "Причины выбора ARPPU, а не на ARPU:\n",
    "- \"механика оплаты\" относится больше к клиентам, чем к пользователям  \n",
    "- минимальная разница конверсии в группах  \n",
    "- всего 1 выброс, отрыв которого не критичен  \n",
    "- достаточное количество клиентов.\n"
   ]
  },
  {
   "cell_type": "markdown",
   "metadata": {},
   "source": [
    "__4.1 Сравнение конверсий из пользователя в клиента__"
   ]
  },
  {
   "cell_type": "markdown",
   "metadata": {},
   "source": [
    "В данном случае имеется две независимые выборки разной численности.   \n",
    "Для поределения есть ли статистически значимые различия в конверсиях между двумя группами, можно использовать Z-тест для разности долей.\n",
    "\n",
    "Нулевая гипотеза (H0):  \n",
    "Конверсии из пользователей в клиенты для двух групп одинаковы, то есть разница между долями конверсий равна нулю.  \n",
    "Альтернативная гипотеза (H1):   \n",
    "Конверсии из пользователей в клиенты для двух групп различаются, то есть разница между долями конверсий не равна нулю."
   ]
  },
  {
   "cell_type": "code",
   "execution_count": 24,
   "metadata": {},
   "outputs": [
    {
     "name": "stdout",
     "output_type": "stream",
     "text": [
      "Z-статистика: 0.06917886071597228\n",
      "p-значение: 0.9448472494939772 \n",
      "\n",
      "Нет статистически значимых различий в конверсиях\n"
     ]
    }
   ],
   "source": [
    "# Количество посетителей и количество клиентов в каждой группе\n",
    "users_A = united_df.query(\"group == 'A'\").shape[0]\n",
    "users_B = united_df.query(\"group == 'B'\").shape[0]\n",
    "clients_A = united_df.query(\"group == 'A' & rev>0\").shape[0]\n",
    "clients_B = united_df.query(\"group == 'B' & rev>0\").shape[0]\n",
    "\n",
    "# Выполняем Z-тест для разности долей\n",
    "stat, pval = proportions_ztest([clients_A, clients_B], [users_A, users_B])\n",
    "\n",
    "# Выводим результаты теста\n",
    "print(f\"Z-статистика: {stat}\")\n",
    "print(f\"p-значение: {pval} \\n\")\n",
    "\n",
    "if pval < 0.05:\n",
    "    print(\"Различия в конверсиях статистически значимы\")\n",
    "else:\n",
    "    print(\"Нет статистически значимых различий в конверсиях\")"
   ]
  },
  {
   "cell_type": "markdown",
   "metadata": {},
   "source": [
    "__4.2 Сравнение равенства средних значений сумм оплат клиентов в группах (ARPPU)__"
   ]
  },
  {
   "cell_type": "markdown",
   "metadata": {},
   "source": [
    "Для этой задачи будем использовать t-тест.\n",
    "\n",
    "Необходимые критерии:   \n",
    "+ наблюдения независимы  \n",
    "+ плотность распределения не является нормальной ИЛИ выборка достаточного размера (выполнена 2-я часть условия)  \n",
    "- гомогенность дисперсий. Необходимо проверить. Если дисперсии не гомогенны, то будем применять поправку Уэлча.  \n",
    "\n",
    "Для данного теста дисбаланс выборок не критичен."
   ]
  },
  {
   "cell_type": "markdown",
   "metadata": {},
   "source": [
    "__Проверка гомогенности (равенства) дисперсий тестом Левена__\n",
    "\n",
    "Нулевая гипотеза (H0):   \n",
    "Дисперсии во всех группах равны, то есть нет статистически значимых различий между дисперсиями.  \n",
    "Альтернативная гипотеза (H1):  \n",
    "Дисперсии во всех группах различны, то есть существуют статистически значимые различия между дисперсиями. "
   ]
  },
  {
   "cell_type": "code",
   "execution_count": 25,
   "metadata": {
    "scrolled": true
   },
   "outputs": [
    {
     "name": "stdout",
     "output_type": "stream",
     "text": [
      "Статистика теста Левена: 4.099799301895542\n",
      "p-значение: 0.043381707065155026 \n",
      "\n",
      "Отвергаем нулевую гипотезу о гомогенности дисперсий.\n"
     ]
    }
   ],
   "source": [
    "# проверка гомогенности (равенства) дисперсий тестом Левена\n",
    "control_group = united_df.query(\"group == 'A' & rev>0\").rev\n",
    "test_group = united_df.query(\"group == 'B' & rev>0\").rev\n",
    "\n",
    "# Применение теста Левена\n",
    "statistic, p_value = levene(control_group, test_group)\n",
    "\n",
    "# Вывод результатов\n",
    "print(f\"Статистика теста Левена: {statistic}\")\n",
    "print(f\"p-значение: {p_value} \\n\")\n",
    "\n",
    "if p_value < 0.05:\n",
    "    print(\"Отвергаем нулевую гипотезу о гомогенности дисперсий.\")\n",
    "else:\n",
    "    print(\"Нет оснований отвергать нулевую гипотезу.\")"
   ]
  },
  {
   "cell_type": "markdown",
   "metadata": {},
   "source": [
    "__T-тест Стьюдента с поправкой Уэлча__\n",
    "\n",
    "Нулевая гипотеза (H0):  \n",
    "Средние значения в двух группах равны, то есть нет статистически значимого различия между средними значениями.  \n",
    "Альтернативная гипотеза (H1):  \n",
    "Средние значения в двух группах различны, то есть существует статистически значимое различие между средними значениями.\n"
   ]
  },
  {
   "cell_type": "code",
   "execution_count": 26,
   "metadata": {},
   "outputs": [
    {
     "name": "stdout",
     "output_type": "stream",
     "text": [
      "Статистика t-теста: 4.099799301895542\n",
      "p-значение: 0.005046700207344717 \n",
      "\n",
      "Среднее значение в контрольной группе статистически значимо меньше, чем в тестовой группе\n"
     ]
    }
   ],
   "source": [
    "# Проведение одностороннего t-теста Стьюдента с поправкой Уэлча\n",
    "t_stat, p_value = ttest_ind(control_group, test_group, equal_var=False)\n",
    "\n",
    "# Вывод результатов\n",
    "print(f\"Статистика t-теста: {statistic}\")\n",
    "print(f\"p-значение: {p_value} \\n\")\n",
    "\n",
    "alpha = 0.05\n",
    "\n",
    "if p_value < alpha and t_stat > 0:\n",
    "    print(\n",
    "        \"Среднее значение в контрольной группе статистически значимо больше, чем в тестовой группе\"\n",
    "    )\n",
    "elif p_value < alpha and t_stat < 0:\n",
    "    print(\n",
    "        \"Среднее значение в контрольной группе статистически значимо меньше, чем в тестовой группе\"\n",
    "    )\n",
    "else:\n",
    "    print(\"Нет статистически значимого различия между средними значениями двух выборок\")"
   ]
  },
  {
   "cell_type": "markdown",
   "metadata": {},
   "source": [
    "#### Вывод по тестам:\n",
    "\n",
    "При отсутствии статистически значимых различий в конверсиях имеем существенный прирост в ARPPU от внедрения новой механики оплаты.  "
   ]
  },
  {
   "cell_type": "markdown",
   "metadata": {},
   "source": [
    "---"
   ]
  },
  {
   "cell_type": "markdown",
   "metadata": {},
   "source": [
    "### 5. Визуализация метрик  "
   ]
  },
  {
   "cell_type": "code",
   "execution_count": 27,
   "metadata": {},
   "outputs": [
    {
     "data": {
      "image/png": "[encoded data removed]",
      "text/plain": [
       "<Figure size 1400x1200 with 6 Axes>"
      ]
     },
     "metadata": {},
     "output_type": "display_data"
    }
   ],
   "source": [
    "# Подтягиваем данные для графиков из итоговой таблицы с метриками\n",
    "control_group = result_df.iloc[0, :].tolist()\n",
    "test_group = result_df.iloc[1, :].tolist()\n",
    "\n",
    "metrics = [\n",
    "    \"\\n Количество участников\\n в группах \",\n",
    "    \"\\n Конверсия из пользователя\\n в клиента, % \",\n",
    "    \"\\n Конверсия из активного \\nпользователя в клиента, %\",\n",
    "    \"\\n ARPU\",\n",
    "    \"\\n ARPAU\",\n",
    "    \"\\n ARPPU\",\n",
    "]\n",
    "\n",
    "# Создаем 6 графиков расположенных 3x2\n",
    "fig, axs = plt.subplots(2, 3, figsize=(14, 12))\n",
    "# Добавляем расстояние между subplots\n",
    "plt.subplots_adjust(hspace=3, wspace=1.2)\n",
    "\n",
    "# size = 14\n",
    "\n",
    "for i in range(6):\n",
    "    row = i // 3\n",
    "    col = i % 3\n",
    "    x = np.arange(2)  # задания позиций столбцов на графике\n",
    "    axs[row, col].bar(x, [control_group[i], test_group[i]], color=[\"#aaa\", \"#66CDAA\"])\n",
    "    axs[row, col].set_title(metrics[i], fontsize=size + 4, pad=14)\n",
    "    axs[row, col].set_xticks(x)\n",
    "    axs[row, col].set_xticklabels([\"Контрольная\", \"Тестовая\"], fontsize=size + 1)\n",
    "    axs[row, col].set_ylabel(\"\", fontsize=size)\n",
    "\n",
    "    # Добавляем значение метрики к каждому столбцу графика\n",
    "    for j, value in enumerate([control_group[i], test_group[i]]):\n",
    "        axs[row, col].text(\n",
    "            j, value, str(value), ha=\"center\", va=\"bottom\", fontsize=size + 1\n",
    "        )\n",
    "\n",
    "    # Увеличиваем зазор между самым высоким столбцом и границей графика\n",
    "    max_value = max(control_group[i], test_group[i])\n",
    "    axs[row, col].set_ylim(0, max_value * 1.15)  # Увеличиваем предел оси y на 15%\n",
    "\n",
    "plt.tight_layout()\n",
    "plt.show()"
   ]
  },
  {
   "cell_type": "markdown",
   "metadata": {},
   "source": [
    "---"
   ]
  },
  {
   "cell_type": "markdown",
   "metadata": {},
   "source": [
    "### 6. Дополнительное исследование на предмет различия оплат в группах"
   ]
  },
  {
   "cell_type": "code",
   "execution_count": 28,
   "metadata": {
    "scrolled": false
   },
   "outputs": [
    {
     "data": {
      "text/html": [
       "<div>\n",
       "<style scoped>\n",
       "    .dataframe tbody tr th:only-of-type {\n",
       "        vertical-align: middle;\n",
       "    }\n",
       "\n",
       "    .dataframe tbody tr th {\n",
       "        vertical-align: top;\n",
       "    }\n",
       "\n",
       "    .dataframe thead th {\n",
       "        text-align: right;\n",
       "    }\n",
       "</style>\n",
       "<table border=\"1\" class=\"dataframe\">\n",
       "  <thead>\n",
       "    <tr style=\"text-align: right;\">\n",
       "      <th></th>\n",
       "      <th>active</th>\n",
       "      <th>group</th>\n",
       "      <th>num</th>\n",
       "    </tr>\n",
       "  </thead>\n",
       "  <tbody>\n",
       "    <tr>\n",
       "      <th>0</th>\n",
       "      <td>0</td>\n",
       "      <td>A</td>\n",
       "      <td>29</td>\n",
       "    </tr>\n",
       "    <tr>\n",
       "      <th>1</th>\n",
       "      <td>0</td>\n",
       "      <td>B</td>\n",
       "      <td>120</td>\n",
       "    </tr>\n",
       "    <tr>\n",
       "      <th>2</th>\n",
       "      <td>1</td>\n",
       "      <td>A</td>\n",
       "      <td>78</td>\n",
       "    </tr>\n",
       "    <tr>\n",
       "      <th>3</th>\n",
       "      <td>1</td>\n",
       "      <td>B</td>\n",
       "      <td>313</td>\n",
       "    </tr>\n",
       "  </tbody>\n",
       "</table>\n",
       "</div>"
      ],
      "text/plain": [
       "   active group  num\n",
       "0       0     A   29\n",
       "1       0     B  120\n",
       "2       1     A   78\n",
       "3       1     B  313"
      ]
     },
     "execution_count": 28,
     "metadata": {},
     "output_type": "execute_result"
    }
   ],
   "source": [
    "# Соотношение активных клиентов и не активных\n",
    "zzz = (\n",
    "    united_df.query(\"rev>0\")\n",
    "    .groupby([\"active\", \"group\"], as_index=False)\n",
    "    .agg({\"id\": \"count\"})\n",
    "    .rename(columns={\"id\": \"num\"})\n",
    ")\n",
    "zzz"
   ]
  },
  {
   "cell_type": "code",
   "execution_count": 29,
   "metadata": {},
   "outputs": [
    {
     "name": "stdout",
     "output_type": "stream",
     "text": [
      "Доля неактивных клиентов в группе A = 27.1%\n",
      "Доля неактивных клиентов в группе B = 27.7%\n"
     ]
    }
   ],
   "source": [
    "zzz_A = zzz.iloc[0, 2] / (zzz.iloc[0, 2] + zzz.iloc[2, 2])\n",
    "print(f\"Доля неактивных клиентов в группе A = {zzz_A:.1%}\")\n",
    "zzz_B = zzz.iloc[1, 2] / (zzz.iloc[1, 2] + zzz.iloc[3, 2])\n",
    "print(f\"Доля неактивных клиентов в группе B = {zzz_B:.1%}\")"
   ]
  },
  {
   "cell_type": "markdown",
   "metadata": {},
   "source": [
    "Не только конверсия, но и доля активных/неактивных в обеих группах почти не отличается."
   ]
  },
  {
   "cell_type": "code",
   "execution_count": 30,
   "metadata": {
    "scrolled": false
   },
   "outputs": [
    {
     "data": {
      "text/html": [
       "<div>\n",
       "<style scoped>\n",
       "    .dataframe tbody tr th:only-of-type {\n",
       "        vertical-align: middle;\n",
       "    }\n",
       "\n",
       "    .dataframe tbody tr th {\n",
       "        vertical-align: top;\n",
       "    }\n",
       "\n",
       "    .dataframe thead th {\n",
       "        text-align: right;\n",
       "    }\n",
       "</style>\n",
       "<table border=\"1\" class=\"dataframe\">\n",
       "  <thead>\n",
       "    <tr style=\"text-align: right;\">\n",
       "      <th></th>\n",
       "      <th>id</th>\n",
       "      <th>group</th>\n",
       "      <th>active</th>\n",
       "      <th>rev</th>\n",
       "    </tr>\n",
       "  </thead>\n",
       "  <tbody>\n",
       "    <tr>\n",
       "      <th>0</th>\n",
       "      <td>1489</td>\n",
       "      <td>B</td>\n",
       "      <td>0</td>\n",
       "      <td>0.0</td>\n",
       "    </tr>\n",
       "    <tr>\n",
       "      <th>1</th>\n",
       "      <td>1627</td>\n",
       "      <td>A</td>\n",
       "      <td>1</td>\n",
       "      <td>990.0</td>\n",
       "    </tr>\n",
       "    <tr>\n",
       "      <th>2</th>\n",
       "      <td>1768</td>\n",
       "      <td>B</td>\n",
       "      <td>0</td>\n",
       "      <td>0.0</td>\n",
       "    </tr>\n",
       "    <tr>\n",
       "      <th>3</th>\n",
       "      <td>1783</td>\n",
       "      <td>B</td>\n",
       "      <td>0</td>\n",
       "      <td>0.0</td>\n",
       "    </tr>\n",
       "    <tr>\n",
       "      <th>4</th>\n",
       "      <td>1794</td>\n",
       "      <td>A</td>\n",
       "      <td>0</td>\n",
       "      <td>0.0</td>\n",
       "    </tr>\n",
       "    <tr>\n",
       "      <th>...</th>\n",
       "      <td>...</td>\n",
       "      <td>...</td>\n",
       "      <td>...</td>\n",
       "      <td>...</td>\n",
       "    </tr>\n",
       "    <tr>\n",
       "      <th>74479</th>\n",
       "      <td>5692459</td>\n",
       "      <td>B</td>\n",
       "      <td>0</td>\n",
       "      <td>0.0</td>\n",
       "    </tr>\n",
       "    <tr>\n",
       "      <th>74480</th>\n",
       "      <td>5692572</td>\n",
       "      <td>B</td>\n",
       "      <td>0</td>\n",
       "      <td>0.0</td>\n",
       "    </tr>\n",
       "    <tr>\n",
       "      <th>74481</th>\n",
       "      <td>5692865</td>\n",
       "      <td>B</td>\n",
       "      <td>0</td>\n",
       "      <td>0.0</td>\n",
       "    </tr>\n",
       "    <tr>\n",
       "      <th>74482</th>\n",
       "      <td>5693667</td>\n",
       "      <td>B</td>\n",
       "      <td>0</td>\n",
       "      <td>0.0</td>\n",
       "    </tr>\n",
       "    <tr>\n",
       "      <th>74483</th>\n",
       "      <td>5694419</td>\n",
       "      <td>B</td>\n",
       "      <td>0</td>\n",
       "      <td>0.0</td>\n",
       "    </tr>\n",
       "  </tbody>\n",
       "</table>\n",
       "<p>74484 rows × 4 columns</p>\n",
       "</div>"
      ],
      "text/plain": [
       "            id group  active    rev\n",
       "0         1489     B       0    0.0\n",
       "1         1627     A       1  990.0\n",
       "2         1768     B       0    0.0\n",
       "3         1783     B       0    0.0\n",
       "4         1794     A       0    0.0\n",
       "...        ...   ...     ...    ...\n",
       "74479  5692459     B       0    0.0\n",
       "74480  5692572     B       0    0.0\n",
       "74481  5692865     B       0    0.0\n",
       "74482  5693667     B       0    0.0\n",
       "74483  5694419     B       0    0.0\n",
       "\n",
       "[74484 rows x 4 columns]"
      ]
     },
     "execution_count": 30,
     "metadata": {},
     "output_type": "execute_result"
    }
   ],
   "source": [
    "united_df"
   ]
  },
  {
   "cell_type": "markdown",
   "metadata": {},
   "source": [
    "Проведем преобразование датафрейма, чтобы увидеть распределение сумм покупок по группам и активности/её отсутствию."
   ]
  },
  {
   "cell_type": "code",
   "execution_count": 31,
   "metadata": {
    "scrolled": false
   },
   "outputs": [
    {
     "data": {
      "text/html": [
       "<div>\n",
       "<style scoped>\n",
       "    .dataframe tbody tr th:only-of-type {\n",
       "        vertical-align: middle;\n",
       "    }\n",
       "\n",
       "    .dataframe tbody tr th {\n",
       "        vertical-align: top;\n",
       "    }\n",
       "\n",
       "    .dataframe thead th {\n",
       "        text-align: right;\n",
       "    }\n",
       "</style>\n",
       "<table border=\"1\" class=\"dataframe\">\n",
       "  <thead>\n",
       "    <tr style=\"text-align: right;\">\n",
       "      <th></th>\n",
       "      <th>rev</th>\n",
       "      <th>active</th>\n",
       "      <th>group</th>\n",
       "      <th>n_checks</th>\n",
       "    </tr>\n",
       "  </thead>\n",
       "  <tbody>\n",
       "    <tr>\n",
       "      <th>0</th>\n",
       "      <td>199.0</td>\n",
       "      <td>0</td>\n",
       "      <td>A</td>\n",
       "      <td>2</td>\n",
       "    </tr>\n",
       "    <tr>\n",
       "      <th>1</th>\n",
       "      <td>199.0</td>\n",
       "      <td>0</td>\n",
       "      <td>B</td>\n",
       "      <td>12</td>\n",
       "    </tr>\n",
       "    <tr>\n",
       "      <th>2</th>\n",
       "      <td>199.0</td>\n",
       "      <td>1</td>\n",
       "      <td>A</td>\n",
       "      <td>5</td>\n",
       "    </tr>\n",
       "    <tr>\n",
       "      <th>3</th>\n",
       "      <td>199.0</td>\n",
       "      <td>1</td>\n",
       "      <td>B</td>\n",
       "      <td>27</td>\n",
       "    </tr>\n",
       "    <tr>\n",
       "      <th>4</th>\n",
       "      <td>290.0</td>\n",
       "      <td>0</td>\n",
       "      <td>A</td>\n",
       "      <td>6</td>\n",
       "    </tr>\n",
       "  </tbody>\n",
       "</table>\n",
       "</div>"
      ],
      "text/plain": [
       "     rev  active group  n_checks\n",
       "0  199.0       0     A         2\n",
       "1  199.0       0     B        12\n",
       "2  199.0       1     A         5\n",
       "3  199.0       1     B        27\n",
       "4  290.0       0     A         6"
      ]
     },
     "execution_count": 31,
     "metadata": {},
     "output_type": "execute_result"
    }
   ],
   "source": [
    "sets = (\n",
    "    united_df.query(\"rev>0\")\n",
    "    .groupby([\"rev\", \"active\", \"group\"], as_index=False)\n",
    "    .agg({\"id\": \"count\"})\n",
    "    .rename(columns={\"id\": \"n_checks\"})\n",
    "    .sort_values(\"rev\", ascending=True)\n",
    ")\n",
    "sets.head()"
   ]
  },
  {
   "cell_type": "code",
   "execution_count": 32,
   "metadata": {
    "scrolled": false
   },
   "outputs": [
    {
     "data": {
      "text/html": [
       "<div>\n",
       "<style scoped>\n",
       "    .dataframe tbody tr th:only-of-type {\n",
       "        vertical-align: middle;\n",
       "    }\n",
       "\n",
       "    .dataframe tbody tr th {\n",
       "        vertical-align: top;\n",
       "    }\n",
       "\n",
       "    .dataframe thead tr th {\n",
       "        text-align: left;\n",
       "    }\n",
       "\n",
       "    .dataframe thead tr:last-of-type th {\n",
       "        text-align: right;\n",
       "    }\n",
       "</style>\n",
       "<table border=\"1\" class=\"dataframe\">\n",
       "  <thead>\n",
       "    <tr>\n",
       "      <th>active</th>\n",
       "      <th colspan=\"2\" halign=\"left\">0</th>\n",
       "      <th colspan=\"2\" halign=\"left\">1</th>\n",
       "    </tr>\n",
       "    <tr>\n",
       "      <th>group</th>\n",
       "      <th>A</th>\n",
       "      <th>B</th>\n",
       "      <th>A</th>\n",
       "      <th>B</th>\n",
       "    </tr>\n",
       "    <tr>\n",
       "      <th>rev</th>\n",
       "      <th></th>\n",
       "      <th></th>\n",
       "      <th></th>\n",
       "      <th></th>\n",
       "    </tr>\n",
       "  </thead>\n",
       "  <tbody>\n",
       "    <tr>\n",
       "      <th>199.0</th>\n",
       "      <td>2.0</td>\n",
       "      <td>12.0</td>\n",
       "      <td>5.0</td>\n",
       "      <td>27.0</td>\n",
       "    </tr>\n",
       "    <tr>\n",
       "      <th>290.0</th>\n",
       "      <td>6.0</td>\n",
       "      <td>18.0</td>\n",
       "      <td>25.0</td>\n",
       "      <td>45.0</td>\n",
       "    </tr>\n",
       "    <tr>\n",
       "      <th>398.0</th>\n",
       "      <td>1.0</td>\n",
       "      <td>1.0</td>\n",
       "      <td>1.0</td>\n",
       "      <td>6.0</td>\n",
       "    </tr>\n",
       "    <tr>\n",
       "      <th>489.0</th>\n",
       "      <td>-</td>\n",
       "      <td>-</td>\n",
       "      <td>2.0</td>\n",
       "      <td>1.0</td>\n",
       "    </tr>\n",
       "    <tr>\n",
       "      <th>580.0</th>\n",
       "      <td>-</td>\n",
       "      <td>4.0</td>\n",
       "      <td>6.0</td>\n",
       "      <td>5.0</td>\n",
       "    </tr>\n",
       "    <tr>\n",
       "      <th>590.0</th>\n",
       "      <td>-</td>\n",
       "      <td>-</td>\n",
       "      <td>5.0</td>\n",
       "      <td>6.0</td>\n",
       "    </tr>\n",
       "    <tr>\n",
       "      <th>597.0</th>\n",
       "      <td>-</td>\n",
       "      <td>-</td>\n",
       "      <td>-</td>\n",
       "      <td>1.0</td>\n",
       "    </tr>\n",
       "    <tr>\n",
       "      <th>630.0</th>\n",
       "      <td>-</td>\n",
       "      <td>1.0</td>\n",
       "      <td>-</td>\n",
       "      <td>-</td>\n",
       "    </tr>\n",
       "    <tr>\n",
       "      <th>690.0</th>\n",
       "      <td>15.0</td>\n",
       "      <td>46.0</td>\n",
       "      <td>4.0</td>\n",
       "      <td>13.0</td>\n",
       "    </tr>\n",
       "    <tr>\n",
       "      <th>796.0</th>\n",
       "      <td>-</td>\n",
       "      <td>-</td>\n",
       "      <td>-</td>\n",
       "      <td>1.0</td>\n",
       "    </tr>\n",
       "    <tr>\n",
       "      <th>840.0</th>\n",
       "      <td>-</td>\n",
       "      <td>3.0</td>\n",
       "      <td>3.0</td>\n",
       "      <td>21.0</td>\n",
       "    </tr>\n",
       "    <tr>\n",
       "      <th>870.0</th>\n",
       "      <td>-</td>\n",
       "      <td>-</td>\n",
       "      <td>1.0</td>\n",
       "      <td>5.0</td>\n",
       "    </tr>\n",
       "    <tr>\n",
       "      <th>880.0</th>\n",
       "      <td>-</td>\n",
       "      <td>-</td>\n",
       "      <td>-</td>\n",
       "      <td>1.0</td>\n",
       "    </tr>\n",
       "    <tr>\n",
       "      <th>990.0</th>\n",
       "      <td>1.0</td>\n",
       "      <td>18.0</td>\n",
       "      <td>5.0</td>\n",
       "      <td>17.0</td>\n",
       "    </tr>\n",
       "    <tr>\n",
       "      <th>1039.0</th>\n",
       "      <td>-</td>\n",
       "      <td>-</td>\n",
       "      <td>1.0</td>\n",
       "      <td>-</td>\n",
       "    </tr>\n",
       "    <tr>\n",
       "      <th>1050.0</th>\n",
       "      <td>-</td>\n",
       "      <td>-</td>\n",
       "      <td>-</td>\n",
       "      <td>1.0</td>\n",
       "    </tr>\n",
       "    <tr>\n",
       "      <th>1140.0</th>\n",
       "      <td>3.0</td>\n",
       "      <td>11.0</td>\n",
       "      <td>2.0</td>\n",
       "      <td>9.0</td>\n",
       "    </tr>\n",
       "    <tr>\n",
       "      <th>1160.0</th>\n",
       "      <td>-</td>\n",
       "      <td>-</td>\n",
       "      <td>2.0</td>\n",
       "      <td>1.0</td>\n",
       "    </tr>\n",
       "    <tr>\n",
       "      <th>1180.0</th>\n",
       "      <td>-</td>\n",
       "      <td>1.0</td>\n",
       "      <td>1.0</td>\n",
       "      <td>-</td>\n",
       "    </tr>\n",
       "    <tr>\n",
       "      <th>1339.0</th>\n",
       "      <td>-</td>\n",
       "      <td>-</td>\n",
       "      <td>-</td>\n",
       "      <td>1.0</td>\n",
       "    </tr>\n",
       "    <tr>\n",
       "      <th>1388.0</th>\n",
       "      <td>-</td>\n",
       "      <td>-</td>\n",
       "      <td>-</td>\n",
       "      <td>1.0</td>\n",
       "    </tr>\n",
       "    <tr>\n",
       "      <th>1530.0</th>\n",
       "      <td>-</td>\n",
       "      <td>-</td>\n",
       "      <td>3.0</td>\n",
       "      <td>5.0</td>\n",
       "    </tr>\n",
       "    <tr>\n",
       "      <th>1729.0</th>\n",
       "      <td>-</td>\n",
       "      <td>-</td>\n",
       "      <td>-</td>\n",
       "      <td>1.0</td>\n",
       "    </tr>\n",
       "    <tr>\n",
       "      <th>1830.0</th>\n",
       "      <td>-</td>\n",
       "      <td>-</td>\n",
       "      <td>1.0</td>\n",
       "      <td>-</td>\n",
       "    </tr>\n",
       "    <tr>\n",
       "      <th>1900.0</th>\n",
       "      <td>-</td>\n",
       "      <td>5.0</td>\n",
       "      <td>-</td>\n",
       "      <td>127.0</td>\n",
       "    </tr>\n",
       "    <tr>\n",
       "      <th>1968.0</th>\n",
       "      <td>-</td>\n",
       "      <td>-</td>\n",
       "      <td>-</td>\n",
       "      <td>1.0</td>\n",
       "    </tr>\n",
       "    <tr>\n",
       "      <th>1980.0</th>\n",
       "      <td>1.0</td>\n",
       "      <td>-</td>\n",
       "      <td>1.0</td>\n",
       "      <td>2.0</td>\n",
       "    </tr>\n",
       "    <tr>\n",
       "      <th>2099.0</th>\n",
       "      <td>-</td>\n",
       "      <td>-</td>\n",
       "      <td>-</td>\n",
       "      <td>3.0</td>\n",
       "    </tr>\n",
       "    <tr>\n",
       "      <th>2190.0</th>\n",
       "      <td>-</td>\n",
       "      <td>-</td>\n",
       "      <td>-</td>\n",
       "      <td>1.0</td>\n",
       "    </tr>\n",
       "    <tr>\n",
       "      <th>2220.0</th>\n",
       "      <td>-</td>\n",
       "      <td>-</td>\n",
       "      <td>1.0</td>\n",
       "      <td>1.0</td>\n",
       "    </tr>\n",
       "    <tr>\n",
       "      <th>2820.0</th>\n",
       "      <td>-</td>\n",
       "      <td>-</td>\n",
       "      <td>2.0</td>\n",
       "      <td>-</td>\n",
       "    </tr>\n",
       "    <tr>\n",
       "      <th>2890.0</th>\n",
       "      <td>-</td>\n",
       "      <td>-</td>\n",
       "      <td>1.0</td>\n",
       "      <td>3.0</td>\n",
       "    </tr>\n",
       "    <tr>\n",
       "      <th>2900.0</th>\n",
       "      <td>-</td>\n",
       "      <td>-</td>\n",
       "      <td>1.0</td>\n",
       "      <td>-</td>\n",
       "    </tr>\n",
       "    <tr>\n",
       "      <th>2910.0</th>\n",
       "      <td>-</td>\n",
       "      <td>-</td>\n",
       "      <td>2.0</td>\n",
       "      <td>2.0</td>\n",
       "    </tr>\n",
       "    <tr>\n",
       "      <th>3040.0</th>\n",
       "      <td>-</td>\n",
       "      <td>-</td>\n",
       "      <td>-</td>\n",
       "      <td>1.0</td>\n",
       "    </tr>\n",
       "    <tr>\n",
       "      <th>3260.0</th>\n",
       "      <td>-</td>\n",
       "      <td>-</td>\n",
       "      <td>-</td>\n",
       "      <td>1.0</td>\n",
       "    </tr>\n",
       "    <tr>\n",
       "      <th>3660.0</th>\n",
       "      <td>-</td>\n",
       "      <td>-</td>\n",
       "      <td>3.0</td>\n",
       "      <td>2.0</td>\n",
       "    </tr>\n",
       "    <tr>\n",
       "      <th>4650.0</th>\n",
       "      <td>-</td>\n",
       "      <td>-</td>\n",
       "      <td>-</td>\n",
       "      <td>1.0</td>\n",
       "    </tr>\n",
       "  </tbody>\n",
       "</table>\n",
       "</div>"
      ],
      "text/plain": [
       "active     0           1       \n",
       "group      A     B     A      B\n",
       "rev                            \n",
       "199.0    2.0  12.0   5.0   27.0\n",
       "290.0    6.0  18.0  25.0   45.0\n",
       "398.0    1.0   1.0   1.0    6.0\n",
       "489.0      -     -   2.0    1.0\n",
       "580.0      -   4.0   6.0    5.0\n",
       "590.0      -     -   5.0    6.0\n",
       "597.0      -     -     -    1.0\n",
       "630.0      -   1.0     -      -\n",
       "690.0   15.0  46.0   4.0   13.0\n",
       "796.0      -     -     -    1.0\n",
       "840.0      -   3.0   3.0   21.0\n",
       "870.0      -     -   1.0    5.0\n",
       "880.0      -     -     -    1.0\n",
       "990.0    1.0  18.0   5.0   17.0\n",
       "1039.0     -     -   1.0      -\n",
       "1050.0     -     -     -    1.0\n",
       "1140.0   3.0  11.0   2.0    9.0\n",
       "1160.0     -     -   2.0    1.0\n",
       "1180.0     -   1.0   1.0      -\n",
       "1339.0     -     -     -    1.0\n",
       "1388.0     -     -     -    1.0\n",
       "1530.0     -     -   3.0    5.0\n",
       "1729.0     -     -     -    1.0\n",
       "1830.0     -     -   1.0      -\n",
       "1900.0     -   5.0     -  127.0\n",
       "1968.0     -     -     -    1.0\n",
       "1980.0   1.0     -   1.0    2.0\n",
       "2099.0     -     -     -    3.0\n",
       "2190.0     -     -     -    1.0\n",
       "2220.0     -     -   1.0    1.0\n",
       "2820.0     -     -   2.0      -\n",
       "2890.0     -     -   1.0    3.0\n",
       "2900.0     -     -   1.0      -\n",
       "2910.0     -     -   2.0    2.0\n",
       "3040.0     -     -     -    1.0\n",
       "3260.0     -     -     -    1.0\n",
       "3660.0     -     -   3.0    2.0\n",
       "4650.0     -     -     -    1.0"
      ]
     },
     "execution_count": 32,
     "metadata": {},
     "output_type": "execute_result"
    }
   ],
   "source": [
    "sets_pt = sets.pivot(\n",
    "    index=\"rev\", columns=[\"active\", \"group\"], values=\"n_checks\"\n",
    ").fillna(\"-\")\n",
    "sets_pt\n",
    "# выводы по распределению сумм будут в конце исследования"
   ]
  },
  {
   "cell_type": "markdown",
   "metadata": {},
   "source": [
    "Найдем все комбинации для сумм чеков."
   ]
  },
  {
   "cell_type": "code",
   "execution_count": 33,
   "metadata": {},
   "outputs": [],
   "source": [
    "# составим список элементов, из которых, предположительно, состоят все суммы за услуги\n",
    "original_price_list = [199, 290, 590, 630, 690, 840, 990, 1050, 1140, 1900]"
   ]
  },
  {
   "cell_type": "code",
   "execution_count": 34,
   "metadata": {},
   "outputs": [],
   "source": [
    "# Чтобы не применять функцию поиска комбинаций для каждой записи полного датафрейма,\n",
    "# применим её на датафейме с уникальными значениями сумм\n",
    "temp2_df = pd.DataFrame(sets.rev.unique(), columns=[\"rev\"])"
   ]
  },
  {
   "cell_type": "code",
   "execution_count": 35,
   "metadata": {
    "scrolled": true
   },
   "outputs": [
    {
     "name": "stdout",
     "output_type": "stream",
     "text": [
      "     rev  items_prices\n",
      "0  199.0       [[199]]\n",
      "1  290.0       [[290]]\n",
      "2  398.0  [[199, 199]]\n"
     ]
    }
   ],
   "source": [
    "# Заметки:\n",
    "# Для некоторых сумм были разные варианты их составов, оставил данную логику выбора варианта,\n",
    "# как самую адекватную и непротиворечащую здравому смыслу.\n",
    "# Данный набор функций пережил множество изменений, возможно содержит атавизмы.\n",
    "\n",
    "\n",
    "# функция подбора разложения сумм на комбинации из списка элементов original_price_list\n",
    "def find_combinations(target_sum, original_price_list, limit_dict):\n",
    "    result = []\n",
    "\n",
    "    # цикл перебора пока сумма в комбинации не будет равно 0\n",
    "    def backtrack(remain, path, start):\n",
    "        if remain == 0:\n",
    "            result.append(path.copy())\n",
    "            return\n",
    "        elif remain < 0 or len(path) >= len(original_price_list):\n",
    "            return\n",
    "\n",
    "        # перебор элементов для комбинаций с условием лимита употребления этих элементов (словарь с лимитами ниже)\n",
    "        for i in range(start, len(original_price_list)):\n",
    "            if original_price_list[i] in path and path.count(\n",
    "                original_price_list[i]\n",
    "            ) >= limit_dict.get(original_price_list[i], float(\"inf\")):\n",
    "                continue\n",
    "\n",
    "            path.append(original_price_list[i])\n",
    "            backtrack(remain - original_price_list[i], path, i)\n",
    "            path.pop()\n",
    "\n",
    "    # если не найдено ни одной комбинации, при которой сумма исходных элементов = искомой сумме,\n",
    "    # то добавляем эту сумму в список original_price_list\n",
    "    for num in original_price_list:\n",
    "        if num == target_sum:\n",
    "            result.append([num])\n",
    "        else:\n",
    "            backtrack(target_sum, [], 0)\n",
    "\n",
    "    return result\n",
    "\n",
    "\n",
    "# Словарь с лимитами на использование определенных чисел\n",
    "limit_dict = {199: 6, 290: 6, 630: 2, 840: 2, 1050: 1, 1140: 1, 1900: 1}\n",
    "\n",
    "\n",
    "# Функция для обработки данных с дополнительным условием\n",
    "def process_data(row):\n",
    "    target_sum = row[\"rev\"]\n",
    "    combinations = find_combinations(target_sum, original_price_list, limit_dict)\n",
    "    valid_combinations = set()\n",
    "    # указываем \"-1\" чтобы оставить комбинации не содержащие услуги стоимостью 590, 690, 990 и 1900\n",
    "    max_special_numbers = -1\n",
    "    best_combination = None\n",
    "    for comb in combinations:\n",
    "        if all(comb.count(num) <= limit_dict.get(num, float(\"inf\")) for num in comb):\n",
    "            # Сделан акцент на данные услуги, основная причина - резко ограничить количество вариантов комбинаций\n",
    "            count_special_numbers = (\n",
    "                comb.count(1900) + comb.count(590) + comb.count(690) + comb.count(990)\n",
    "            )\n",
    "\n",
    "            # ниже именно >= чтобы взять варианты где меньше ежемесячных премиум абонементов (малых сумм)\n",
    "            # считаем что пользователи более смышленные и ведут себя оптимально\n",
    "            if count_special_numbers >= max_special_numbers:\n",
    "                max_special_numbers = count_special_numbers\n",
    "                best_combination = comb\n",
    "    # результат добавляем в кортеж, чтобы отсеивать дубликаты\n",
    "    if best_combination:\n",
    "        valid_combinations.add(tuple(sorted(best_combination)))\n",
    "    return [list(comb) for comb in valid_combinations]\n",
    "\n",
    "\n",
    "# Применяем функцию к датафрейму и создаем новый столбец 'items_prices'\n",
    "temp2_df[\"items_prices\"] = temp2_df.apply(process_data, axis=1)\n",
    "\n",
    "# Вывод части результата\n",
    "print(temp2_df.head(3))"
   ]
  },
  {
   "cell_type": "markdown",
   "metadata": {},
   "source": [
    "- 630, 840, 1050 имеют общий делитель 210. Очень похоже на оплату сразу за 3-5 месяцев.\n",
    "Все случаи приобретения данных услуг, кроме двух относятся к покупке 840. \n",
    "\n",
    "Предположение, что услуги стоимостью:\n",
    "- 199 и кратные 210 (630/840/1050) относятся к одному типу услуг - ежемесячный премиум абонемент.  \n",
    "Например: 199 - это может быть оплата частями при покупке премиум абонемента на полгода+  \n",
    "1140 и 1900 - похожи на полугодовой и годовой премиум абонемент, только 1900 идет с большим количеством бонусов.\n",
    "- 290, 590, 690, 990 - к другому типу услуг. По поводу 290 есть сомнения, это может быть и премиум абонемент на месяц."
   ]
  },
  {
   "cell_type": "code",
   "execution_count": 36,
   "metadata": {
    "scrolled": true
   },
   "outputs": [],
   "source": [
    "# Расчёт сумм по видам услуг и количества приобретенных услуг\n",
    "\n",
    "premium = [199, 630, 840, 1050, 1140, 1900]\n",
    "courses = [290, 590, 690, 990]\n",
    "\n",
    "\n",
    "def calculate(row):\n",
    "    sum_prem = 0\n",
    "    sum_courses = 0\n",
    "    count_items = 0\n",
    "    for sublist in row:\n",
    "        for num in sublist:\n",
    "            if num in premium:\n",
    "                sum_prem += num\n",
    "            if num in courses:\n",
    "                sum_courses += num\n",
    "            count_items += 1\n",
    "    return sum_prem, sum_courses, count_items\n",
    "\n",
    "\n",
    "# Создаем новые столбцы с суммами\n",
    "temp2_df[[\"premium_sum\", \"courses_sum\", \"items_num\"]] = (\n",
    "    temp2_df[\"items_prices\"].apply(calculate).apply(pd.Series)\n",
    ")"
   ]
  },
  {
   "cell_type": "code",
   "execution_count": 37,
   "metadata": {},
   "outputs": [
    {
     "data": {
      "text/html": [
       "<div>\n",
       "<style scoped>\n",
       "    .dataframe tbody tr th:only-of-type {\n",
       "        vertical-align: middle;\n",
       "    }\n",
       "\n",
       "    .dataframe tbody tr th {\n",
       "        vertical-align: top;\n",
       "    }\n",
       "\n",
       "    .dataframe thead th {\n",
       "        text-align: right;\n",
       "    }\n",
       "</style>\n",
       "<table border=\"1\" class=\"dataframe\">\n",
       "  <thead>\n",
       "    <tr style=\"text-align: right;\">\n",
       "      <th></th>\n",
       "      <th>rev</th>\n",
       "      <th>items_prices</th>\n",
       "      <th>premium_sum</th>\n",
       "      <th>courses_sum</th>\n",
       "      <th>items_num</th>\n",
       "    </tr>\n",
       "  </thead>\n",
       "  <tbody>\n",
       "    <tr>\n",
       "      <th>33</th>\n",
       "      <td>2910.0</td>\n",
       "      <td>[[690, 690, 690, 840]]</td>\n",
       "      <td>840</td>\n",
       "      <td>2070</td>\n",
       "      <td>4</td>\n",
       "    </tr>\n",
       "    <tr>\n",
       "      <th>34</th>\n",
       "      <td>3040.0</td>\n",
       "      <td>[[290, 290, 590, 590, 590, 690]]</td>\n",
       "      <td>0</td>\n",
       "      <td>3040</td>\n",
       "      <td>6</td>\n",
       "    </tr>\n",
       "    <tr>\n",
       "      <th>35</th>\n",
       "      <td>3260.0</td>\n",
       "      <td>[[590, 690, 990, 990]]</td>\n",
       "      <td>0</td>\n",
       "      <td>3260</td>\n",
       "      <td>4</td>\n",
       "    </tr>\n",
       "    <tr>\n",
       "      <th>36</th>\n",
       "      <td>3660.0</td>\n",
       "      <td>[[690, 990, 990, 990]]</td>\n",
       "      <td>0</td>\n",
       "      <td>3660</td>\n",
       "      <td>4</td>\n",
       "    </tr>\n",
       "    <tr>\n",
       "      <th>37</th>\n",
       "      <td>4650.0</td>\n",
       "      <td>[[690, 990, 990, 990, 990]]</td>\n",
       "      <td>0</td>\n",
       "      <td>4650</td>\n",
       "      <td>5</td>\n",
       "    </tr>\n",
       "  </tbody>\n",
       "</table>\n",
       "</div>"
      ],
      "text/plain": [
       "       rev                      items_prices  premium_sum  courses_sum  \\\n",
       "33  2910.0            [[690, 690, 690, 840]]          840         2070   \n",
       "34  3040.0  [[290, 290, 590, 590, 590, 690]]            0         3040   \n",
       "35  3260.0            [[590, 690, 990, 990]]            0         3260   \n",
       "36  3660.0            [[690, 990, 990, 990]]            0         3660   \n",
       "37  4650.0       [[690, 990, 990, 990, 990]]            0         4650   \n",
       "\n",
       "    items_num  \n",
       "33          4  \n",
       "34          6  \n",
       "35          4  \n",
       "36          4  \n",
       "37          5  "
      ]
     },
     "execution_count": 37,
     "metadata": {},
     "output_type": "execute_result"
    }
   ],
   "source": [
    "# Просмотр результата\n",
    "temp2_df.tail(5)\n",
    "# чтобы увидеть таблицу полностью, уберите функцию tail()"
   ]
  },
  {
   "cell_type": "code",
   "execution_count": 38,
   "metadata": {},
   "outputs": [
    {
     "data": {
      "text/html": [
       "<div>\n",
       "<style scoped>\n",
       "    .dataframe tbody tr th:only-of-type {\n",
       "        vertical-align: middle;\n",
       "    }\n",
       "\n",
       "    .dataframe tbody tr th {\n",
       "        vertical-align: top;\n",
       "    }\n",
       "\n",
       "    .dataframe thead th {\n",
       "        text-align: right;\n",
       "    }\n",
       "</style>\n",
       "<table border=\"1\" class=\"dataframe\">\n",
       "  <thead>\n",
       "    <tr style=\"text-align: right;\">\n",
       "      <th></th>\n",
       "      <th>id</th>\n",
       "      <th>group</th>\n",
       "      <th>active</th>\n",
       "      <th>rev</th>\n",
       "      <th>items_prices</th>\n",
       "      <th>premium_sum</th>\n",
       "      <th>courses_sum</th>\n",
       "      <th>items_num</th>\n",
       "    </tr>\n",
       "  </thead>\n",
       "  <tbody>\n",
       "    <tr>\n",
       "      <th>0</th>\n",
       "      <td>1489</td>\n",
       "      <td>B</td>\n",
       "      <td>0</td>\n",
       "      <td>0.0</td>\n",
       "      <td>0</td>\n",
       "      <td>0.0</td>\n",
       "      <td>0.0</td>\n",
       "      <td>0.0</td>\n",
       "    </tr>\n",
       "    <tr>\n",
       "      <th>1</th>\n",
       "      <td>1627</td>\n",
       "      <td>A</td>\n",
       "      <td>1</td>\n",
       "      <td>990.0</td>\n",
       "      <td>[[990]]</td>\n",
       "      <td>0.0</td>\n",
       "      <td>990.0</td>\n",
       "      <td>1.0</td>\n",
       "    </tr>\n",
       "    <tr>\n",
       "      <th>2</th>\n",
       "      <td>1768</td>\n",
       "      <td>B</td>\n",
       "      <td>0</td>\n",
       "      <td>0.0</td>\n",
       "      <td>0</td>\n",
       "      <td>0.0</td>\n",
       "      <td>0.0</td>\n",
       "      <td>0.0</td>\n",
       "    </tr>\n",
       "  </tbody>\n",
       "</table>\n",
       "</div>"
      ],
      "text/plain": [
       "     id group  active    rev items_prices  premium_sum  courses_sum  items_num\n",
       "0  1489     B       0    0.0            0          0.0          0.0        0.0\n",
       "1  1627     A       1  990.0      [[990]]          0.0        990.0        1.0\n",
       "2  1768     B       0    0.0            0          0.0          0.0        0.0"
      ]
     },
     "execution_count": 38,
     "metadata": {},
     "output_type": "execute_result"
    }
   ],
   "source": [
    "items_prices = united_df.merge(temp2_df, how=\"left\", on=\"rev\").fillna(0)\n",
    "items_prices.head(3)"
   ]
  },
  {
   "cell_type": "markdown",
   "metadata": {},
   "source": [
    "Посчитаем несколько метрик, чтобы увидеть общую картину"
   ]
  },
  {
   "cell_type": "code",
   "execution_count": 39,
   "metadata": {},
   "outputs": [
    {
     "name": "stdout",
     "output_type": "stream",
     "text": [
      "Среднее количество приобретенных услуг клиентами в контрольной группе       = 1.52\n",
      "Среднее количество приобретенных услуг клиентами в экспериментальной группе = 1.22\n",
      "\n",
      "Максимальное количество приобретенных услуг активными клиентами  = 6.0\n",
      "Максимальное количество приобретенных услуг пассивными клиентами = 2.0\n",
      "\n",
      "ARPPU активных  в группе A =  933.59\n",
      "ARPPU пассивных в группе A =  664.69\n",
      "ARPPU активных  в группе B = 1255.83\n",
      "ARPPU пассивных в группе B =  718.80\n",
      "\n",
      "Рост ARPPU экспериментальной группы по отношению к контрольной среди АКТИВНЫХ клиентов  = 25.7%\n",
      "Рост ARPPU экспериментальной группы по отношению к контрольной среди ПАССИВНЫХ клиентов = 7.5%\n"
     ]
    }
   ],
   "source": [
    "# Расчёт среднего количество приобретенных услуг клиентами по группам\n",
    "mean_items_A = round(items_prices.query(\"group == 'A' & rev>0\").items_num.mean(), 2)\n",
    "print(\n",
    "    f\"Среднее количество приобретенных услуг клиентами в контрольной группе       = {mean_items_A}\"\n",
    ")\n",
    "mean_items_B = round(items_prices.query(\"group == 'B' & rev>0\").items_num.mean(), 2)\n",
    "print(\n",
    "    f\"Среднее количество приобретенных услуг клиентами в экспериментальной группе = {mean_items_B}\\n\"\n",
    ")\n",
    "\n",
    "# Расчёт максимального количества приобретенных услуг в зависимости выполнил условия активности клиент или нет\n",
    "max_items_active = items_prices.query(\"active == 1\").items_num.max()\n",
    "print(\n",
    "    f\"Максимальное количество приобретенных услуг активными клиентами  = {max_items_active}\"\n",
    ")\n",
    "max_items_passive = items_prices.query(\"active == 0\").items_num.max()\n",
    "print(\n",
    "    f\"Максимальное количество приобретенных услуг пассивными клиентами = {max_items_passive}\\n\"\n",
    ")\n",
    "\n",
    "# Расчёт максимального количества приобретенных услуг в зависимости выполнил условия активности клиент или нет\n",
    "mean_rev_active_A = items_prices.query(\"active == 1 & group == 'A' & rev>0\").rev.mean()\n",
    "print(f\"ARPPU активных  в группе A =  {mean_rev_active_A:.2f}\")\n",
    "mean_rev_passive_A = items_prices.query(\"active == 0 & group == 'A' & rev>0\").rev.mean()\n",
    "print(f\"ARPPU пассивных в группе A =  {mean_rev_passive_A:.2f}\")\n",
    "mean_rev_active_B = items_prices.query(\"active == 1 & group == 'B' & rev>0\").rev.mean()\n",
    "print(f\"ARPPU активных  в группе B = {mean_rev_active_B:.2f}\")\n",
    "mean_rev_passive_B = items_prices.query(\"active == 0 & group == 'B' & rev>0\").rev.mean()\n",
    "print(f\"ARPPU пассивных в группе B =  {mean_rev_passive_B:.2f}\\n\")\n",
    "\n",
    "print(\n",
    "    f\"Рост ARPPU экспериментальной группы по отношению к контрольной среди АКТИВНЫХ клиентов  = {1-(mean_rev_active_A / mean_rev_active_B):.1%}\"\n",
    ")\n",
    "print(\n",
    "    f\"Рост ARPPU экспериментальной группы по отношению к контрольной среди ПАССИВНЫХ клиентов = {1-(mean_rev_passive_A / mean_rev_passive_B):.1%}\"\n",
    ")"
   ]
  },
  {
   "cell_type": "markdown",
   "metadata": {},
   "source": [
    "__Анализ полученного датафрема__\n",
    "\n",
    "С учетом, что численность экспериментальной группы в 4 раза выше контрольной группы и неактивные составляют около 27% среди клиентов, можно сделать следующие выводы:\n",
    "- самый популярный вариант сумм оплат в размере 1900 присутствует только в группе \"B\" и почти все случае в активной части. \n",
    "Значит условия данного набора выгодны только на расстоянии и при достаточной активности.\n",
    "- среди неативных большей популярностью пользуется услуга за 690 (для обеих групп), а также услуга за 990 (для тестовой группы). \n",
    "- при этом отсутствует сумма оплаты в 1380 (690+690). Почему? Ближайший набор с 690Х2 только с 840 за 2220.\n",
    "- 840 если идет с другой услугой, то это почти всегда 690 (не беря в расчёт 199). Лишь одно исключение: 1830 (840+990), но его можно представить как 690+1140.\n",
    "- неактивные брали либо только премиум абонементы (199, 1140, 1900), либо только услуги 290/590/690/990\n",
    "- в контрольной группе в среднем приобретается больше услуг, но ARPPU существенно ниже. Это объясняется популярностью набора 1900 только в экспериментальной группе.\n",
    "- неактивные приобретают не более 2 услуг, а активные до 6. (при изменении логики составления комбинаций показатель может быть выше)"
   ]
  },
  {
   "cell_type": "markdown",
   "metadata": {},
   "source": [
    "Если принять оплаты 199 как ежемесячный премиум, то можно сделать вывод что эксперимент длился немногим более 4 месяцев.  \n",
    "<br/>\n",
    "При такой логике комбинаций отсутствуют случаи выбора услуг из цепочки 290-590-690-990 без соблюдения этой последовательности. Хотя любой из этих уровеней можно выбрать стартовым. \n",
    "Следовательно это ступени повышения квалификации.  Возможно, есть какой-то тест на входе.   \n",
    "\n",
    "По сумме 3040 (290 + 290 + 590 + 590 + 590 + 690), можно сделать вывод, что данные услуги предоставляют доступ не на определенное количество дней, а до конца месяца, либо это оплата за разные курсы.  \n",
    "\n",
    "Возможен вариант, что услуги за 590/690/990 это разовые услуги (например: беседа с преподователем, консультация со специалистом)."
   ]
  },
  {
   "cell_type": "code",
   "execution_count": 40,
   "metadata": {},
   "outputs": [
    {
     "data": {
      "text/plain": [
       "571426.0"
      ]
     },
     "execution_count": 40,
     "metadata": {},
     "output_type": "execute_result"
    }
   ],
   "source": [
    "# Посмотрим выручку за время проведения теста\n",
    "united_df.rev.sum()"
   ]
  },
  {
   "cell_type": "markdown",
   "metadata": {},
   "source": [
    "Если это сумма за 4 месяца, то получается менее 145к в месяц.\n",
    "Это либо в иностранной валюте (например долл. США), либо основной продукт остался за пределами выгрузки."
   ]
  },
  {
   "cell_type": "markdown",
   "metadata": {},
   "source": [
    "_Продолжение анализа датафрейма_  \n",
    "\n",
    "Явно отсутствуют варианты 1430 (1140 + 290) и 1730 (1140 + 590).  \n",
    "Также отсутствуют варианты 2490 (1900 + 590) и 2590 (1900 + 690), это даёт нам предположение, что услуги за 590 и 690 уже включены в стоимость 1900, аналогично для 1140 (включены 290 и 590).\n",
    "\n",
    "Кроме того 1900 является ключевым набором (самый популярный и доступный только экспериментальной группе), то есть той самой новой механикой оплаты.  \n",
    "\n",
    "Необходимо понять выгодно ли для компании массовая покупка данного набора в ущерб приобретению 590 и 690 отдельными услугами.\n",
    "Тогда основная цель эксперимента: новая механика должна приносить больше прибыли, чем текущая + комппенсация убытов, связанных с её вводом и действием (например выплата авторских гонораров).\n",
    "\n",
    "У компании есть статистика за прошлые периоды и понимание минимальной положительной разницы (MDE), чтобы компании это нововведение было выгодно. Если результат выше заложенного MDE, значит всё ок - катим.\n",
    "\n",
    "_Думаю, коэффициент был заложен без учета действия внешней рекламы о новой возможности. Скорее всего была рассылка по имеющейся базе пользователей, среди тех, кто ничего не приобретал, либо приобретал очень давно (минимальный шанс на возврат). Об этом говорят ID номера пользователей.\n",
    "Чем тогда завлекали старых пользователей на вход? Скорее всего промо с дополнительным сроком для услуг 290, 690 и 990, это объяснило бы их популярность особенно у неактивных._ "
   ]
  },
  {
   "cell_type": "code",
   "execution_count": 41,
   "metadata": {},
   "outputs": [
    {
     "name": "stdout",
     "output_type": "stream",
     "text": [
      "Прирост ARPPU в тестовой группе относительно показателя контрольной группы = 22.25%\n"
     ]
    }
   ],
   "source": [
    "# расчет разницы ARPPU между группами\n",
    "print(\n",
    "    f\"Прирост ARPPU в тестовой группе относительно показателя контрольной группы = {(1 - ARPPU_A / ARPPU_B):.2%}\"\n",
    ")"
   ]
  },
  {
   "cell_type": "markdown",
   "metadata": {},
   "source": [
    "Воспользуемся калькулятором MDE на сайте \n",
    "https://speero.com/ab-test-calculator\n",
    "\n",
    "Переключаем на \"Pre-Test Analysis\"\n",
    "\n",
    "Подставим известные данные:  \n",
    "\n",
    "Number of variants (including control)  = 2 (контрольная и тестовая)  \n",
    "Baseline conversion rate (control) = 0.73% (посчитано ранее)  \n",
    "Confidence level = 95% (по умолчанию, стандарт индустрии)  \n",
    "Statistical power = 80% (по умолчанию, стандарт индустрии)   \n",
    "\n",
    "Weekly traffic (sessions or users) -- вместо недельного укажем месячный трафик.   \n",
    "В расчете х2 кол-ва из планируемой (округленной) тестовой выборки. Основание: неравномерное распределение в группах + идет расчет на количество поситителей на вариант (\"Visitors per variant\")  \n",
    "60000 * 2 группы / 4 временных интервала = 30000  \n",
    "либо без учета временных интервалов считаем как тестоавя группа *2 = 120000 \n",
    "\n",
    "Ориентируемся на строку с \"Number of weeks running test\" = 4   (в данном случае это кол-во месяцев)\n",
    "(если без учета временных интервалов, то на первую строку)\n",
    "\n",
    "Смотрим \"Minimum detectable effect (MDE)\"\n",
    "\n",
    "Получаем прогнозируемое MDE (различие ключевой метрики ARPPU в выборках) = 16.85%\n",
    "\n",
    "Итоговая разница ARPPU между группами в 22.25% превышает прогнозируемое значение."
   ]
  },
  {
   "cell_type": "markdown",
   "metadata": {},
   "source": [
    "---"
   ]
  },
  {
   "cell_type": "markdown",
   "metadata": {},
   "source": [
    "### 7. Вывод по задаче и дополнительному исследованию"
   ]
  },
  {
   "cell_type": "markdown",
   "metadata": {},
   "source": [
    "Определили метрики для оценки теста. \n",
    "Ключевой метрикой выбран ARPPU.   \n",
    "\n",
    "Провели стат. тесты для конверсии и ARPPU. При отсутствии статистически значимых различий в конверсиях получили существенный прирост в ARPPU от внедрения новой механики оплаты.  \n",
    "Создана итоговая таблица и визуализированы метрики для обеих групп. \n",
    "\n",
    "Проведено дополнительное исследование на предмет различия оплат в группах.   \n",
    "В ходе которого определены:   \n",
    "- наиболее вероятностная комбинация приобретенных услуг для всех имеющихся сумм  \n",
    "- набор стоимостью 1900, встречающийся только у участников экспериментальной группы, как искомая «новая механика оплаты». Выдвинуты предположения о его составляющих.  \n",
    "- неактивные клиенты приобретают 1-2 услуги, а активные - 1-6.\n",
    "- среднее количество приобретенных услуг больше в контрольной группе, а ARPPU – в экспериментальной, основная причина в наборе за 1900.  \n",
    "- и другие закономерности оплат  \n",
    "\n",
    "Существенный рост ARPPU от нововведения показал именно сегмент активных клиентов (+25.7%).\n",
    "\n",
    "Чтобы удостоверится, что прибыль от внедрения новой механики оплат покроет издержки и дополнительные траты, рассчитали MDE (16,85%) для ключевой метрики и сравнили с приростом данной метрики в экспериментальной группе относительно контрольной (22.25%).\n",
    "\n",
    "__Итог: рекомендовано запускать новую механику оплаты на всех пользователей.__\n",
    "\n",
    "Дополнительная рекомендация: вплотную заняться улучшением конверсии пользователей в клиенты."
   ]
  },
  {
   "cell_type": "markdown",
   "metadata": {},
   "source": [
    "---\n",
    "---"
   ]
  },
  {
   "cell_type": "markdown",
   "metadata": {},
   "source": [
    "\n",
    "\n",
    "\n",
    "### Реализация функцию, которая будет автоматически подгружать информацию из дополнительного файла groups_add.csv и на основании дополнительных параметров пересчитывать метрики."
   ]
  },
  {
   "cell_type": "code",
   "execution_count": 42,
   "metadata": {},
   "outputs": [
    {
     "name": "stdout",
     "output_type": "stream",
     "text": [
      "         Users CR users🠖clients CR active🠖clients  ARPU  ARPAU    ARPPU\n",
      "control  14693             0.73              6.96  6.27  59.88   860.71\n",
      "target   59883             0.72              6.38  8.04  70.74  1108.82\n"
     ]
    }
   ],
   "source": [
    "def process_data(file_path, separator):\n",
    "    try:\n",
    "        # Чтение файла в датафрейм\n",
    "        group_add_df = read_file_yandex_dick(\n",
    "            \"https://disk.yandex.ru/d/5Kxrz02m3IBUwQ\", \",\"\n",
    "        )\n",
    "        group_add_df = group_add_df.rename(columns={\"grp\": \"group\"})\n",
    "\n",
    "        # ===== Проверка данных =====\n",
    "\n",
    "        # Проверка на наличие пропусков\n",
    "        if group_add_df.isnull().values.any():\n",
    "            raise ValueError(\"Обнаружены пропуски в данных\")\n",
    "\n",
    "        # Проверка типа данных в первом столбце\n",
    "        if group_add_df.iloc[:, 0].dtype != \"int64\":\n",
    "            raise ValueError(\"Тип данных в первом столбце не int\")\n",
    "\n",
    "        # Проверка значений во втором столбце\n",
    "        unique_values_second_column = group_add_df.iloc[:, 1].unique()\n",
    "        if set(unique_values_second_column) != {\"A\", \"B\"}:\n",
    "            raise ValueError(\n",
    "                \"Признак группы для одной или нескольких записей отличается\"\n",
    "            )\n",
    "\n",
    "        # ===== Объединение гдатафреймов =====\n",
    "\n",
    "        # Добавление записей из group_add_df к записям group_df\n",
    "        combined_df = pd.concat([groups_df, group_add_df], ignore_index=True)\n",
    "\n",
    "        # объеиняем датафреймы принадлежности участников к группам\n",
    "        # и активных участников во временный датафрейм\n",
    "        # Для надежности и возможности возврата к предыдущим расчетам,\n",
    "        # для новых поеказателей будем использовать цифру 2 в названии.\n",
    "\n",
    "        temp2_df = pd.merge(\n",
    "            combined_df,\n",
    "            active_studs_df,\n",
    "            how=\"left\",\n",
    "            left_on=\"id\",\n",
    "            right_on=\"student_id\",\n",
    "        ).rename(\n",
    "            columns={\"student_id\": \"active\"}\n",
    "        )  # переименуем столбец\n",
    "\n",
    "        # вместо id из датафрейма активности сделаем признак активен / не активен\n",
    "        temp2_df[\"active\"] = temp2_df[\"active\"].notnull().astype(int)\n",
    "\n",
    "        # объединяем полученный датафрейм с датафреймом оплат пользователей\n",
    "        united2_df = (\n",
    "            pd.merge(\n",
    "                temp2_df, checks_df, how=\"left\", left_on=\"id\", right_on=\"student_id\"\n",
    "            )\n",
    "            .fillna(0)\n",
    "            .drop(\"student_id\", axis=1)\n",
    "        )\n",
    "\n",
    "        # ===== Промежуточные параметры =====\n",
    "\n",
    "        # Подсчет участников групп\n",
    "        A_team_users2 = united2_df.query(\"group == 'A'\").shape[0]\n",
    "        B_team_users2 = united2_df.query(\"group == 'B'\").shape[0]\n",
    "\n",
    "        # Подсчет клиентов групп\n",
    "        A_team_clients2 = united2_df.query(\"group == 'A' & rev > 0\")\n",
    "        B_team_clients2 = united2_df.query(\"group == 'B' & rev > 0\")\n",
    "\n",
    "        # Подсчет активных участников групп\n",
    "        active_A2 = united2_df.query(\"group == 'A' & active == 1\")\n",
    "        active_B2 = united2_df.query(\"group == 'B' & active == 1\")\n",
    "\n",
    "        # ===== Метрики =====\n",
    "\n",
    "        # Кол-во участников посчитано выше\n",
    "\n",
    "        # Конверсия участник - клиент\n",
    "        CR_user_A_to_client2 = round(A_team_clients2.shape[0] * 100 / A_team_users2, 2)\n",
    "        CR_user_B_to_client2 = round(B_team_clients2.shape[0] * 100 / B_team_users2, 2)\n",
    "\n",
    "        # Конверсия акт. участник - клиент\n",
    "        CR_active_A_to_client2 = round(\n",
    "            A_team_clients2.shape[0] * 100 / active_A2.shape[0], 2\n",
    "        )\n",
    "        CR_active_B_to_client2 = round(\n",
    "            B_team_clients2.shape[0] * 100 / active_B2.shape[0], 2\n",
    "        )\n",
    "\n",
    "        # ARPU\n",
    "        ARPU_A2 = round(A_team_clients2.rev.sum() / A_team_users2, 2)\n",
    "        ARPU_B2 = round(B_team_clients2.rev.sum() / B_team_users2, 2)\n",
    "\n",
    "        # ARPAU\n",
    "        ARPAU_A2 = round(A_team_clients2.rev.sum() / active_A2.shape[0], 2)\n",
    "        ARPAU_B2 = round(B_team_clients2.rev.sum() / active_B2.shape[0], 2)\n",
    "\n",
    "        # ARPPU\n",
    "        ARPPU_A2 = round(A_team_clients2.rev.mean(), 2)\n",
    "        ARPPU_B2 = round(B_team_clients2.rev.mean(), 2)\n",
    "\n",
    "        # ===== Создание и вывод итоговой таблицы метрик по группам =====\n",
    "\n",
    "        # Список с именами столбцов\n",
    "        columns = [\n",
    "            \"Users\",\n",
    "            \"CR users🠖clients\",\n",
    "            \"CR active🠖clients\",\n",
    "            \"ARPU\",\n",
    "            \"ARPAU\",\n",
    "            \"ARPPU\",\n",
    "        ]\n",
    "        # Список с индексами\n",
    "        index = [\"control\", \"target\"]\n",
    "\n",
    "        result = pd.DataFrame(columns=columns, index=index)\n",
    "\n",
    "        # добавление метрик в результирующий датафрейм (итоговую таблицу)\n",
    "        result.loc[\"control\"] = [\n",
    "            A_team_users2,\n",
    "            CR_user_A_to_client2,\n",
    "            CR_active_A_to_client2,\n",
    "            ARPU_A2,\n",
    "            ARPAU_A2,\n",
    "            ARPPU_A2,\n",
    "        ]\n",
    "        result.loc[\"target\"] = [\n",
    "            B_team_users2,\n",
    "            CR_user_B_to_client2,\n",
    "            CR_active_B_to_client2,\n",
    "            ARPU_B2,\n",
    "            ARPAU_B2,\n",
    "            ARPPU_B2,\n",
    "        ]\n",
    "        return result\n",
    "\n",
    "    except FileNotFoundError:\n",
    "        print(\"Файл не найден\")\n",
    "    except ValueError as e:\n",
    "        print(f\"Ошибка: {e}\")\n",
    "\n",
    "\n",
    "# вызов функции\n",
    "result2_df = process_data(\"https://disk.yandex.ru/d/5Kxrz02m3IBUwQ\", \",\")\n",
    "if result2_df is not None:\n",
    "    print(result2_df)"
   ]
  },
  {
   "cell_type": "markdown",
   "metadata": {},
   "source": [
    "#### Итог:\n",
    "\n",
    "Функция работает. Данные по метрикам обновлены.  \n",
    "Изменения от добавления файла не существенны в виду небольшого количества записей, из которых всего 1 с покупкой."
   ]
  }
 ],
 "metadata": {
  "kernelspec": {
   "display_name": "Python 3",
   "language": "python",
   "name": "python3"
  },
  "language_info": {
   "codemirror_mode": {
    "name": "ipython",
    "version": 3
   },
   "file_extension": ".py",
   "mimetype": "text/x-python",
   "name": "python",
   "nbconvert_exporter": "python",
   "pygments_lexer": "ipython3",
   "version": "3.11.5"
  }
 },
 "nbformat": 4,
 "nbformat_minor": 4
}
